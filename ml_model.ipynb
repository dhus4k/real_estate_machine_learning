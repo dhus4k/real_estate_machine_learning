{
 "cells": [
  {
   "cell_type": "code",
   "execution_count": 1,
   "metadata": {},
   "outputs": [],
   "source": [
    "import translation\n",
    "import pickle\n",
    "import re\n",
    "import pandas as pd\n",
    "import numpy as np\n",
    "from sklearn.preprocessing import StandardScaler\n",
    "import seaborn as sns\n",
    "from scipy.stats import normaltest\n",
    "import os\n",
    "import datetime\n",
    "import matplotlib as mpl\n",
    "import matplotlib.pyplot as plt\n",
    "from mpl_toolkits.basemap import Basemap \n",
    "from utils import *\n",
    "%matplotlib inline"
   ]
  },
  {
   "cell_type": "code",
   "execution_count": 2,
   "metadata": {
    "collapsed": true
   },
   "outputs": [],
   "source": [
    "DATA_DIR='./data'\n",
    "INPUT_DIR='../real_estate_hungary/output'\n",
    "FILENAME='ForSaleRent_20181101.csv'\n",
    "INPUT_FILEPATH=os.path.join(INPUT_DIR, FILENAME)\n",
    "IMG_DIR='./img'"
   ]
  },
  {
   "cell_type": "code",
   "execution_count": 3,
   "metadata": {
    "collapsed": true
   },
   "outputs": [],
   "source": [
    "na_hun_equivalent='nincs megadva'"
   ]
  },
  {
   "cell_type": "code",
   "execution_count": 4,
   "metadata": {
    "collapsed": true
   },
   "outputs": [],
   "source": [
    "raw=pd.read_csv(INPUT_FILEPATH, encoding='utf8', na_values=na_hun_equivalent)"
   ]
  },
  {
   "cell_type": "markdown",
   "metadata": {},
   "source": [
    "### Translation from Hungarian to English"
   ]
  },
  {
   "cell_type": "code",
   "execution_count": 5,
   "metadata": {
    "collapsed": true
   },
   "outputs": [],
   "source": [
    "raw=translation.transform_naming(raw)"
   ]
  },
  {
   "cell_type": "markdown",
   "metadata": {},
   "source": [
    "### Data structure/columns\n",
    "Three categories:\n",
    "1. Unique ID\n",
    "2. Possible features\n",
    "3. Technical columns"
   ]
  },
  {
   "cell_type": "code",
   "execution_count": 6,
   "metadata": {},
   "outputs": [
    {
     "name": "stdout",
     "output_type": "stream",
     "text": [
      "<class 'pandas.core.frame.DataFrame'>\n",
      "RangeIndex: 55146 entries, 0 to 55145\n",
      "Data columns (total 60 columns):\n",
      "address                     55120 non-null object\n",
      "accessibility               14456 non-null object\n",
      "batch_num                   55146 non-null int64\n",
      "ceiling_height              37722 non-null object\n",
      "buses                       36823 non-null object\n",
      "buses_count                 36823 non-null float64\n",
      "furnished                   8593 non-null object\n",
      "cluster_id                  55146 non-null object\n",
      "property_id                 55146 non-null int64\n",
      "desc                        54531 non-null object\n",
      "city_district               55146 non-null int64\n",
      "smoking                     4822 non-null object\n",
      "floors                      50258 non-null object\n",
      "energy_perf_cert            2809 non-null object\n",
      "balcony                     23573 non-null object\n",
      "bath_and_wc                 29760 non-null object\n",
      "type_of_heating             49418 non-null object\n",
      "equipped                    7926 non-null object\n",
      "boats                       1971 non-null object\n",
      "boats_count                 1971 non-null float64\n",
      "local_railways              1212 non-null object\n",
      "local_railways_count        1212 non-null float64\n",
      "condition_of_real_estate    48908 non-null object\n",
      "with_entry_to_garden        17821 non-null object\n",
      "view                        42211 non-null object\n",
      "pets                        5188 non-null object\n",
      "convenience_level           32304 non-null object\n",
      "vacant                      6534 non-null object\n",
      "residental_park_name        1384 non-null object\n",
      "lat                         55146 non-null float64\n",
      "lift                        45574 non-null object\n",
      "property_url                55146 non-null object\n",
      "timestamp                   55146 non-null object\n",
      "lng                         55146 non-null float64\n",
      "air_conditioned             17548 non-null object\n",
      "max_listing                 55146 non-null int64\n",
      "max_page                    55146 non-null int64\n",
      "metro_lines                 15047 non-null object\n",
      "metro_lines_count           15047 non-null float64\n",
      "min_tenancy                 7609 non-null object\n",
      "page_num                    55146 non-null int64\n",
      "panelprogram                1819 non-null object\n",
      "parking                     26437 non-null object\n",
      "parking_lot_price_in_huf    4621 non-null object\n",
      "price_in_huf                55146 non-null object\n",
      "area_size                   55146 non-null object\n",
      "utilities                   11466 non-null object\n",
      "room                        55146 non-null object\n",
      "attic                       32895 non-null object\n",
      "trolley_buses               17251 non-null object\n",
      "trolley_buses_count         17251 non-null float64\n",
      "listing_type                55146 non-null object\n",
      "orientation                 34536 non-null object\n",
      "trams                       22696 non-null object\n",
      "trams_count                 22696 non-null float64\n",
      "is_ad_active                55146 non-null object\n",
      "all_night_services          33757 non-null object\n",
      "all_night_services_count    33757 non-null float64\n",
      "year_built                  22339 non-null object\n",
      "building_floors             31497 non-null object\n",
      "dtypes: float64(9), int64(6), object(45)\n",
      "memory usage: 25.2+ MB\n"
     ]
    }
   ],
   "source": [
    "raw.info()"
   ]
  },
  {
   "cell_type": "code",
   "execution_count": 37,
   "metadata": {
    "collapsed": true
   },
   "outputs": [],
   "source": [
    "composite_id=['property_id', 'timestamp']"
   ]
  },
  {
   "cell_type": "code",
   "execution_count": 38,
   "metadata": {
    "collapsed": true
   },
   "outputs": [],
   "source": [
    "technical=['property_url', 'cluster_id', 'batch_num', 'page_num', 'max_page', 'max_listing', 'is_ad_active']"
   ]
  },
  {
   "cell_type": "code",
   "execution_count": 43,
   "metadata": {},
   "outputs": [],
   "source": [
    "possible_features=raw.columns[~raw.columns.isin(technical)&~raw.columns.isin(composite_id)].tolist()"
   ]
  },
  {
   "cell_type": "markdown",
   "metadata": {},
   "source": [
    "### Drop duplicated records"
   ]
  },
  {
   "cell_type": "code",
   "execution_count": 54,
   "metadata": {},
   "outputs": [
    {
     "name": "stdout",
     "output_type": "stream",
     "text": [
      "97.325282%\n"
     ]
    }
   ],
   "source": [
    "unique_records=raw[[composite_id[0]]+possible_features].drop_duplicates()\n",
    "unique_records_idx=unique_records.index\n",
    "total_records=len(raw)\n",
    "unique_total_ratio=len(unique_records)/total_records\n",
    "print('{0:%}'.format(unique_total_ratio))"
   ]
  },
  {
   "cell_type": "code",
   "execution_count": 55,
   "metadata": {
    "collapsed": true
   },
   "outputs": [],
   "source": [
    "u_raw=raw.loc[unique_records_idx, possible_features+composite_id]"
   ]
  },
  {
   "cell_type": "markdown",
   "metadata": {},
   "source": [
    "### Adding unique id column\n",
    "- Composed from property_id and timestamp"
   ]
  },
  {
   "cell_type": "code",
   "execution_count": 56,
   "metadata": {
    "collapsed": true
   },
   "outputs": [],
   "source": [
    "ts_fmt='%Y-%m-%d %H:%M:%S.%f'\n",
    "u_raw['id']=u_raw['property_id']+u_raw['timestamp'].apply(lambda ts: datetime.datetime.strptime(ts, ts_fmt).timestamp())"
   ]
  },
  {
   "cell_type": "code",
   "execution_count": 57,
   "metadata": {
    "scrolled": true
   },
   "outputs": [
    {
     "data": {
      "text/html": [
       "<div>\n",
       "<style>\n",
       "    .dataframe thead tr:only-child th {\n",
       "        text-align: right;\n",
       "    }\n",
       "\n",
       "    .dataframe thead th {\n",
       "        text-align: left;\n",
       "    }\n",
       "\n",
       "    .dataframe tbody tr th {\n",
       "        vertical-align: top;\n",
       "    }\n",
       "</style>\n",
       "<table border=\"1\" class=\"dataframe\">\n",
       "  <thead>\n",
       "    <tr style=\"text-align: right;\">\n",
       "      <th></th>\n",
       "      <th>address</th>\n",
       "      <th>accessibility</th>\n",
       "      <th>ceiling_height</th>\n",
       "      <th>buses</th>\n",
       "      <th>buses_count</th>\n",
       "      <th>furnished</th>\n",
       "      <th>desc</th>\n",
       "      <th>city_district</th>\n",
       "      <th>smoking</th>\n",
       "      <th>floors</th>\n",
       "      <th>...</th>\n",
       "      <th>trolley_buses</th>\n",
       "      <th>trolley_buses_count</th>\n",
       "      <th>listing_type</th>\n",
       "      <th>orientation</th>\n",
       "      <th>trams</th>\n",
       "      <th>trams_count</th>\n",
       "      <th>all_night_services</th>\n",
       "      <th>all_night_services_count</th>\n",
       "      <th>year_built</th>\n",
       "      <th>building_floors</th>\n",
       "    </tr>\n",
       "  </thead>\n",
       "  <tbody>\n",
       "    <tr>\n",
       "      <th>0</th>\n",
       "      <td>Budai Bolero II</td>\n",
       "      <td>igen</td>\n",
       "      <td>NaN</td>\n",
       "      <td>103|133E|33</td>\n",
       "      <td>3.0</td>\n",
       "      <td>NaN</td>\n",
       "      <td>| Exkluzív otthon az Ön igényeire szabva! A Bu...</td>\n",
       "      <td>11</td>\n",
       "      <td>NaN</td>\n",
       "      <td>10</td>\n",
       "      <td>...</td>\n",
       "      <td>NaN</td>\n",
       "      <td>NaN</td>\n",
       "      <td>for-sale</td>\n",
       "      <td>nyugat</td>\n",
       "      <td>1</td>\n",
       "      <td>1.0</td>\n",
       "      <td>NaN</td>\n",
       "      <td>NaN</td>\n",
       "      <td>2019</td>\n",
       "      <td>10</td>\n",
       "    </tr>\n",
       "    <tr>\n",
       "      <th>1</th>\n",
       "      <td>Csata utca 30.</td>\n",
       "      <td>NaN</td>\n",
       "      <td>3 m-nél alacsonyabb</td>\n",
       "      <td>14|32|105</td>\n",
       "      <td>3.0</td>\n",
       "      <td>NaN</td>\n",
       "      <td>| XIII  kerület közkedvelt részén  az Árpád-hí...</td>\n",
       "      <td>13</td>\n",
       "      <td>NaN</td>\n",
       "      <td>földszint</td>\n",
       "      <td>...</td>\n",
       "      <td>NaN</td>\n",
       "      <td>NaN</td>\n",
       "      <td>for-sale</td>\n",
       "      <td>északnyugat</td>\n",
       "      <td>1|14</td>\n",
       "      <td>2.0</td>\n",
       "      <td>914|914A</td>\n",
       "      <td>2.0</td>\n",
       "      <td>NaN</td>\n",
       "      <td>5</td>\n",
       "    </tr>\n",
       "    <tr>\n",
       "      <th>2</th>\n",
       "      <td>Csata utca 30.</td>\n",
       "      <td>NaN</td>\n",
       "      <td>3 m-nél alacsonyabb</td>\n",
       "      <td>14|32|105</td>\n",
       "      <td>3.0</td>\n",
       "      <td>NaN</td>\n",
       "      <td>| XIII  kerület közkedvelt részén  az Árpád-hí...</td>\n",
       "      <td>13</td>\n",
       "      <td>NaN</td>\n",
       "      <td>2</td>\n",
       "      <td>...</td>\n",
       "      <td>NaN</td>\n",
       "      <td>NaN</td>\n",
       "      <td>for-sale</td>\n",
       "      <td>délnyugat</td>\n",
       "      <td>1|14</td>\n",
       "      <td>2.0</td>\n",
       "      <td>914|914A</td>\n",
       "      <td>2.0</td>\n",
       "      <td>2018</td>\n",
       "      <td>5</td>\n",
       "    </tr>\n",
       "    <tr>\n",
       "      <th>3</th>\n",
       "      <td>Csata utca 30.</td>\n",
       "      <td>NaN</td>\n",
       "      <td>3 m-nél alacsonyabb</td>\n",
       "      <td>14|32|105</td>\n",
       "      <td>3.0</td>\n",
       "      <td>NaN</td>\n",
       "      <td>| XIII  kerület közkedvelt részén  az Árpád-hí...</td>\n",
       "      <td>13</td>\n",
       "      <td>NaN</td>\n",
       "      <td>1</td>\n",
       "      <td>...</td>\n",
       "      <td>NaN</td>\n",
       "      <td>NaN</td>\n",
       "      <td>for-sale</td>\n",
       "      <td>északnyugat</td>\n",
       "      <td>1|14</td>\n",
       "      <td>2.0</td>\n",
       "      <td>914|914A</td>\n",
       "      <td>2.0</td>\n",
       "      <td>2018</td>\n",
       "      <td>5</td>\n",
       "    </tr>\n",
       "    <tr>\n",
       "      <th>4</th>\n",
       "      <td>Csata utca 30.</td>\n",
       "      <td>NaN</td>\n",
       "      <td>3 m-nél alacsonyabb</td>\n",
       "      <td>14|32|105</td>\n",
       "      <td>3.0</td>\n",
       "      <td>NaN</td>\n",
       "      <td>| XIII  kerület közkedvelt részén  az Árpád-hí...</td>\n",
       "      <td>13</td>\n",
       "      <td>NaN</td>\n",
       "      <td>5</td>\n",
       "      <td>...</td>\n",
       "      <td>NaN</td>\n",
       "      <td>NaN</td>\n",
       "      <td>for-sale</td>\n",
       "      <td>északkelet</td>\n",
       "      <td>1|14</td>\n",
       "      <td>2.0</td>\n",
       "      <td>914|914A</td>\n",
       "      <td>2.0</td>\n",
       "      <td>2018</td>\n",
       "      <td>5</td>\n",
       "    </tr>\n",
       "  </tbody>\n",
       "</table>\n",
       "<p>5 rows × 51 columns</p>\n",
       "</div>"
      ],
      "text/plain": [
       "           address accessibility       ceiling_height        buses  \\\n",
       "0  Budai Bolero II          igen                  NaN  103|133E|33   \n",
       "1   Csata utca 30.           NaN  3 m-nél alacsonyabb    14|32|105   \n",
       "2   Csata utca 30.           NaN  3 m-nél alacsonyabb    14|32|105   \n",
       "3   Csata utca 30.           NaN  3 m-nél alacsonyabb    14|32|105   \n",
       "4   Csata utca 30.           NaN  3 m-nél alacsonyabb    14|32|105   \n",
       "\n",
       "   buses_count furnished                                               desc  \\\n",
       "0          3.0       NaN  | Exkluzív otthon az Ön igényeire szabva! A Bu...   \n",
       "1          3.0       NaN  | XIII  kerület közkedvelt részén  az Árpád-hí...   \n",
       "2          3.0       NaN  | XIII  kerület közkedvelt részén  az Árpád-hí...   \n",
       "3          3.0       NaN  | XIII  kerület közkedvelt részén  az Árpád-hí...   \n",
       "4          3.0       NaN  | XIII  kerület közkedvelt részén  az Árpád-hí...   \n",
       "\n",
       "   city_district smoking     floors       ...       trolley_buses  \\\n",
       "0             11     NaN         10       ...                 NaN   \n",
       "1             13     NaN  földszint       ...                 NaN   \n",
       "2             13     NaN          2       ...                 NaN   \n",
       "3             13     NaN          1       ...                 NaN   \n",
       "4             13     NaN          5       ...                 NaN   \n",
       "\n",
       "  trolley_buses_count listing_type  orientation trams trams_count  \\\n",
       "0                 NaN     for-sale       nyugat     1         1.0   \n",
       "1                 NaN     for-sale  északnyugat  1|14         2.0   \n",
       "2                 NaN     for-sale    délnyugat  1|14         2.0   \n",
       "3                 NaN     for-sale  északnyugat  1|14         2.0   \n",
       "4                 NaN     for-sale   északkelet  1|14         2.0   \n",
       "\n",
       "   all_night_services all_night_services_count  year_built building_floors  \n",
       "0                 NaN                      NaN        2019              10  \n",
       "1            914|914A                      2.0         NaN               5  \n",
       "2            914|914A                      2.0        2018               5  \n",
       "3            914|914A                      2.0        2018               5  \n",
       "4            914|914A                      2.0        2018               5  \n",
       "\n",
       "[5 rows x 51 columns]"
      ]
     },
     "execution_count": 57,
     "metadata": {},
     "output_type": "execute_result"
    }
   ],
   "source": [
    "u_raw.loc[:,possible_features].head()"
   ]
  },
  {
   "cell_type": "markdown",
   "metadata": {},
   "source": [
    "### Available listing types\n",
    "- for-sale\n",
    "- for-rent"
   ]
  },
  {
   "cell_type": "code",
   "execution_count": 58,
   "metadata": {
    "collapsed": true
   },
   "outputs": [],
   "source": [
    "sale_flt=u_raw.listing_type=='for-sale'\n",
    "rent_flt=u_raw.listing_type=='for-rent'"
   ]
  },
  {
   "cell_type": "markdown",
   "metadata": {},
   "source": [
    "### Missing values"
   ]
  },
  {
   "cell_type": "code",
   "execution_count": 61,
   "metadata": {},
   "outputs": [
    {
     "data": {
      "image/png": "[encoded data removed]",
      "text/plain": [
       "<Figure size 1224x1080 with 2 Axes>"
      ]
     },
     "metadata": {},
     "output_type": "display_data"
    }
   ],
   "source": [
    "plot_na_ratio(u_raw.loc[sale_flt, possible_features], grouping='listing_type', dest_dir=IMG_DIR)"
   ]
  },
  {
   "cell_type": "markdown",
   "metadata": {},
   "source": [
    "### Handling missing values\n",
    "1. No action, using only fully represented variables\n",
    "2. Impute with mean, median, mode\n",
    "3. Model different features leveraging of other variables\n",
    "4. Using *Natural Language Processing* on property description and combine with the 3rd option "
   ]
  },
  {
   "cell_type": "markdown",
   "metadata": {},
   "source": [
    "- Fully represented variables:"
   ]
  },
  {
   "cell_type": "code",
   "execution_count": 62,
   "metadata": {
    "collapsed": true
   },
   "outputs": [],
   "source": [
    "fully_repr=['id', 'lng', 'lat', 'price_in_huf', 'area_size', 'room', 'city_district', 'address', 'listing_type']"
   ]
  },
  {
   "cell_type": "code",
   "execution_count": 63,
   "metadata": {
    "collapsed": true
   },
   "outputs": [],
   "source": [
    "listings=u_raw.loc[:, fully_repr].copy()"
   ]
  },
  {
   "cell_type": "code",
   "execution_count": 64,
   "metadata": {},
   "outputs": [
    {
     "data": {
      "text/plain": [
       "id               float64\n",
       "lng              float64\n",
       "lat              float64\n",
       "price_in_huf      object\n",
       "area_size         object\n",
       "room              object\n",
       "city_district      int64\n",
       "address           object\n",
       "listing_type      object\n",
       "dtype: object"
      ]
     },
     "execution_count": 64,
     "metadata": {},
     "output_type": "execute_result"
    }
   ],
   "source": [
    "listings.dtypes"
   ]
  },
  {
   "cell_type": "code",
   "execution_count": 65,
   "metadata": {},
   "outputs": [
    {
     "data": {
      "text/html": [
       "<div>\n",
       "<style>\n",
       "    .dataframe thead tr:only-child th {\n",
       "        text-align: right;\n",
       "    }\n",
       "\n",
       "    .dataframe thead th {\n",
       "        text-align: left;\n",
       "    }\n",
       "\n",
       "    .dataframe tbody tr th {\n",
       "        vertical-align: top;\n",
       "    }\n",
       "</style>\n",
       "<table border=\"1\" class=\"dataframe\">\n",
       "  <thead>\n",
       "    <tr style=\"text-align: right;\">\n",
       "      <th></th>\n",
       "      <th>id</th>\n",
       "      <th>lng</th>\n",
       "      <th>lat</th>\n",
       "      <th>price_in_huf</th>\n",
       "      <th>area_size</th>\n",
       "      <th>room</th>\n",
       "      <th>city_district</th>\n",
       "      <th>address</th>\n",
       "      <th>listing_type</th>\n",
       "    </tr>\n",
       "  </thead>\n",
       "  <tbody>\n",
       "    <tr>\n",
       "      <th>0</th>\n",
       "      <td>1.567544e+09</td>\n",
       "      <td>19.048690</td>\n",
       "      <td>47.460680</td>\n",
       "      <td>69.9 millió Ft</td>\n",
       "      <td>92 m²</td>\n",
       "      <td>3 + 1 fél</td>\n",
       "      <td>11</td>\n",
       "      <td>Budai Bolero II</td>\n",
       "      <td>for-sale</td>\n",
       "    </tr>\n",
       "    <tr>\n",
       "      <th>1</th>\n",
       "      <td>1.565945e+09</td>\n",
       "      <td>19.079060</td>\n",
       "      <td>47.529858</td>\n",
       "      <td>50.3 millió Ft</td>\n",
       "      <td>75 m²</td>\n",
       "      <td>3</td>\n",
       "      <td>13</td>\n",
       "      <td>Csata utca 30.</td>\n",
       "      <td>for-sale</td>\n",
       "    </tr>\n",
       "    <tr>\n",
       "      <th>2</th>\n",
       "      <td>1.566792e+09</td>\n",
       "      <td>19.078869</td>\n",
       "      <td>47.529730</td>\n",
       "      <td>49.5 millió Ft</td>\n",
       "      <td>75 m²</td>\n",
       "      <td>3</td>\n",
       "      <td>13</td>\n",
       "      <td>Csata utca 30.</td>\n",
       "      <td>for-sale</td>\n",
       "    </tr>\n",
       "    <tr>\n",
       "      <th>3</th>\n",
       "      <td>1.568972e+09</td>\n",
       "      <td>19.079060</td>\n",
       "      <td>47.529858</td>\n",
       "      <td>46.1 millió Ft</td>\n",
       "      <td>71 m²</td>\n",
       "      <td>3</td>\n",
       "      <td>13</td>\n",
       "      <td>Csata utca 30.</td>\n",
       "      <td>for-sale</td>\n",
       "    </tr>\n",
       "    <tr>\n",
       "      <th>4</th>\n",
       "      <td>1.568226e+09</td>\n",
       "      <td>19.079060</td>\n",
       "      <td>47.529858</td>\n",
       "      <td>62.9 millió Ft</td>\n",
       "      <td>77 m²</td>\n",
       "      <td>3</td>\n",
       "      <td>13</td>\n",
       "      <td>Csata utca 30.</td>\n",
       "      <td>for-sale</td>\n",
       "    </tr>\n",
       "  </tbody>\n",
       "</table>\n",
       "</div>"
      ],
      "text/plain": [
       "             id        lng        lat    price_in_huf area_size         room  \\\n",
       "0  1.567544e+09  19.048690  47.460680  69.9 millió Ft     92 m²   3 + 1 fél    \n",
       "1  1.565945e+09  19.079060  47.529858  50.3 millió Ft     75 m²           3    \n",
       "2  1.566792e+09  19.078869  47.529730  49.5 millió Ft     75 m²           3    \n",
       "3  1.568972e+09  19.079060  47.529858  46.1 millió Ft     71 m²           3    \n",
       "4  1.568226e+09  19.079060  47.529858  62.9 millió Ft     77 m²           3    \n",
       "\n",
       "   city_district          address listing_type  \n",
       "0             11  Budai Bolero II     for-sale  \n",
       "1             13   Csata utca 30.     for-sale  \n",
       "2             13   Csata utca 30.     for-sale  \n",
       "3             13   Csata utca 30.     for-sale  \n",
       "4             13   Csata utca 30.     for-sale  "
      ]
     },
     "execution_count": 65,
     "metadata": {},
     "output_type": "execute_result"
    }
   ],
   "source": [
    "listings.head()"
   ]
  },
  {
   "cell_type": "markdown",
   "metadata": {},
   "source": [
    "### Convert strings to numeric\n",
    "- Price - three categories:\n",
    "    1. Billion (milliárd)\n",
    "    2. Million (millió)\n",
    "    3. Hungarian Forint (Ft)<br><br>\n",
    "- Area size:\n",
    "    - Remove m$^2$ (square meter)<br><br>\n",
    "- Price per squaremeter:\n",
    "    $\\frac{price}{area}$<br><br>\n",
    "- Number of rooms - splitting into two category\n",
    "    1. Number of full rooms (room >12 m$^2$)\n",
    "    2. Number of half rooms (room <12 m$^2$)\n",
    "    3. Adding total number of rooms"
   ]
  },
  {
   "cell_type": "code",
   "execution_count": null,
   "metadata": {
    "collapsed": true
   },
   "outputs": [],
   "source": [
    "listings['price_in_huf']=raw.price_in_huf.apply(extract_num, thousand_eq='ezer', million_eq='millió', billion_eq='milliárd')\n",
    "listings['area_size']=raw.area_size.apply(extract_num)\n",
    "listings['room_lt_12_sqm']=raw.room.apply(lambda x: extract_num(x.split('+')[1]) if '+' in x else 0)\n",
    "listings['room_ge_12_sqm']=raw.room.apply(lambda x: extract_num(x.split('+')[0]))\n",
    "listings['room_total']=listings['room_ge_12_sqm']+listings['room_lt_12_sqm']\n",
    "listings['price_per_sqm']=listings['price_in_huf']/listings['area_size']"
   ]
  },
  {
   "cell_type": "markdown",
   "metadata": {},
   "source": [
    "- Measurement scales\n",
    "    - Nominal, category\n",
    "    - Ordinal\n",
    "    - Interval\n",
    "    - Ratio"
   ]
  },
  {
   "cell_type": "code",
   "execution_count": null,
   "metadata": {
    "collapsed": true
   },
   "outputs": [],
   "source": [
    "num_feat=[i for i in listings if (listings[i].dtype!=object) & (i!='id')]"
   ]
  },
  {
   "cell_type": "code",
   "execution_count": null,
   "metadata": {},
   "outputs": [],
   "source": [
    "listings[num_feat].head(10)"
   ]
  },
  {
   "cell_type": "code",
   "execution_count": null,
   "metadata": {
    "collapsed": true
   },
   "outputs": [],
   "source": [
    "listings.drop(axis=1, labels='room', inplace=True)"
   ]
  },
  {
   "cell_type": "markdown",
   "metadata": {},
   "source": [
    "---"
   ]
  },
  {
   "cell_type": "markdown",
   "metadata": {},
   "source": [
    "### Split listings into listing types"
   ]
  },
  {
   "cell_type": "code",
   "execution_count": null,
   "metadata": {
    "collapsed": true
   },
   "outputs": [],
   "source": [
    "sale, rent = listings[sale_flt], listings[rent_flt]"
   ]
  },
  {
   "cell_type": "markdown",
   "metadata": {},
   "source": [
    "### Split *for-sale* dataset into training and test set"
   ]
  },
  {
   "cell_type": "code",
   "execution_count": null,
   "metadata": {
    "collapsed": true,
    "scrolled": true
   },
   "outputs": [],
   "source": [
    "train_sale, test_sale = split_train_test_by_hash(sale, test_ratio=0.2, id_column='id')"
   ]
  },
  {
   "cell_type": "code",
   "execution_count": null,
   "metadata": {},
   "outputs": [],
   "source": [
    "len(train_sale)/(len(train_sale)+len(test_sale))"
   ]
  },
  {
   "cell_type": "markdown",
   "metadata": {},
   "source": [
    "### Data exploring"
   ]
  },
  {
   "cell_type": "code",
   "execution_count": null,
   "metadata": {},
   "outputs": [],
   "source": [
    "train_sale.describe()"
   ]
  },
  {
   "cell_type": "code",
   "execution_count": null,
   "metadata": {},
   "outputs": [],
   "source": [
    "normaltest(train_sale.avg_price_per_sqm)"
   ]
  },
  {
   "cell_type": "code",
   "execution_count": null,
   "metadata": {},
   "outputs": [],
   "source": [
    "# for bins in range(10, 150, 10):\n",
    "bins=150\n",
    "train_sale[['lng', 'lat', 'price_in_huf', 'area_size', 'avg_price_per_sqm', 'room_lt_12_sqm', 'room_ge_12_sqm', 'room_total', 'city_district']].hist(bins=bins, figsize=(20,20))\n",
    "plt.suptitle('{} bins'.format(bins), fontsize=20, weight=15, y=0.93)\n",
    "plt.savefig('{0}/{1}_bins_{2}{3}'.format(IMG_DIR, 'histograms', bins, '.png'))\n",
    "# plt.show()"
   ]
  },
  {
   "cell_type": "code",
   "execution_count": null,
   "metadata": {},
   "outputs": [],
   "source": [
    "train_sale[['price_in_huf', 'area_size']].apply(np.log).hist(bins=bins, figsize=(15,5))\n",
    "plt.show()"
   ]
  },
  {
   "cell_type": "code",
   "execution_count": null,
   "metadata": {},
   "outputs": [],
   "source": [
    "train_sale['log_price_in_huf']=train_sale.price_in_huf.apply(np.log)\n",
    "train_sale['log_area_size']=train_sale.area_size.apply(np.log)"
   ]
  },
  {
   "cell_type": "code",
   "execution_count": null,
   "metadata": {
    "collapsed": true
   },
   "outputs": [],
   "source": [
    "num_feat=[i for i in train_sale if (train_sale[i].dtype!=object) & (i!='id')]"
   ]
  },
  {
   "cell_type": "code",
   "execution_count": null,
   "metadata": {
    "collapsed": true
   },
   "outputs": [],
   "source": [
    "df=train_sale[num_feat].copy()"
   ]
  },
  {
   "cell_type": "code",
   "execution_count": null,
   "metadata": {},
   "outputs": [],
   "source": [
    "scatter_matrix(df)"
   ]
  },
  {
   "cell_type": "code",
   "execution_count": null,
   "metadata": {},
   "outputs": [],
   "source": [
    "corr=df.corr()\n",
    "corr.style.background_gradient()"
   ]
  },
  {
   "cell_type": "code",
   "execution_count": null,
   "metadata": {},
   "outputs": [],
   "source": [
    "fig=plt.figure(figsize=(8,8))\n",
    "ax=fig.gca()\n",
    "ax.matshow(df.corr(), cmap='Greys')\n",
    "ax.xaxis.set_ticklabels(ticklabels=['']+df.corr().columns.tolist(), rotation=90, fontsize=15)\n",
    "ax.yaxis.set_ticklabels(ticklabels=['']+df.corr().columns.tolist(), fontsize=15)\n",
    "plt.show()"
   ]
  },
  {
   "cell_type": "markdown",
   "metadata": {},
   "source": [
    "### Longitude, Latitude - Scale: Interval"
   ]
  },
  {
   "cell_type": "code",
   "execution_count": null,
   "metadata": {
    "collapsed": true
   },
   "outputs": [],
   "source": [
    "min_gps=train_sale[['lng', 'lat']].min()\n",
    "max_gps=train_sale[['lng', 'lat']].max()"
   ]
  },
  {
   "cell_type": "code",
   "execution_count": null,
   "metadata": {},
   "outputs": [],
   "source": [
    "ax=plt.gca()\n",
    "train_sale[['lng', 'lat']].plot(kind='scatter', x='lng', y='lat', c='Brown', ax=ax, s=25, alpha=1, linewidth=0.25, edgecolor='Black', figsize=(12,12), xlim=(min_gps['lng'], max_gps['lng']), ylim=(min_gps['lat'], max_gps['lat']))\n",
    "danube.plot(kind='scatter', x='lng', y='lat', ax=ax, figsize=(12,12), xlim=(min_gps['lng'], max_gps['lng']), ylim=(min_gps['lat'], max_gps['lat']))"
   ]
  },
  {
   "cell_type": "markdown",
   "metadata": {},
   "source": [
    "- Adding map to the scatter plot"
   ]
  },
  {
   "cell_type": "code",
   "execution_count": null,
   "metadata": {},
   "outputs": [],
   "source": [
    "m = Basemap(urcrnrlat=max_gps['lat'],     # top\n",
    "              urcrnrlon=max_gps['lng'],   # bottom\n",
    "              llcrnrlat=min_gps['lat'],     # left\n",
    "              llcrnrlon=min_gps['lng'],   # right\n",
    "              epsg=4237)\n",
    "width = 25\n",
    "height = 25 #35\n",
    "fig = plt.gcf()\n",
    "fig.set_size_inches(width, height)\n",
    "dpi = 96\n",
    "xpixels = dpi * width\n",
    "m.arcgisimage(service='Canvas/World_Light_Gray_Base', xpixels=xpixels)\n",
    "plt.scatter(x=train_sale['lng'].values, y=train_sale['lat'].values, s=25, alpha=1, linewidth=0.25, edgecolor='Black')\n",
    "plt.scatter(x=danube.lng.values, y=danube.lat.values)\n",
    "# plt.savefig('test.png')\n",
    "plt.show()"
   ]
  },
  {
   "cell_type": "code",
   "execution_count": null,
   "metadata": {},
   "outputs": [],
   "source": [
    "fig, axs = plt.subplots(2,2)\n",
    "fig.set_size_inches(20,20)\n",
    "train_sale[['lng', 'lat']].plot(kind='scatter', x='lng', y='lat', ax=axs[1,0], s=25, alpha=0.4, linewidth=0.25, edgecolor='Black')\n",
    "train_sale[['lng']].hist('lng', ax=axs[0,0], bins=bins, linewidth=0.5, edgecolor='Black', grid=False, sharey=True)\n",
    "train_sale[['lat']].hist('lat', ax=axs[1,1], bins=bins, linewidth=0.5, edgecolor='Black', grid=False, orientation='horizontal', sharex=True)\n",
    "axs[0,1].axis('off')\n",
    "plt.tight_layout()\n",
    "plt.show()"
   ]
  },
  {
   "cell_type": "code",
   "execution_count": null,
   "metadata": {},
   "outputs": [],
   "source": [
    "gps_count=train_sale[['lng', 'lat', 'address']].groupby(['lng', 'lat']).count().sort_values('address', ascending=False)\n",
    "gps_count.head(10)"
   ]
  },
  {
   "cell_type": "code",
   "execution_count": null,
   "metadata": {},
   "outputs": [],
   "source": [
    "address_count=train_sale[['lng', 'lat', 'address']].groupby(['address']).count().sort_values(['lng', 'lat'], ascending=False)\n",
    "address_count.head()"
   ]
  },
  {
   "cell_type": "markdown",
   "metadata": {},
   "source": [
    "#### GPS Coordinates\n",
    "The issue with the gps coordinates is that if the user has not specified the exact address only the district then gps coordinates point to the center of the district, consequently longitude and latitude pairs are not accurate enough.  \n",
    "**Solution**: remove these records, since they include too broad set of properties.<br><br>\n",
    "Four homogeneity levels have been identified:\n",
    "    1. Fully specified address (contains street number, street name) e.g. Király utca 13.\n",
    "    2. Residental park is defined e.g. Greenside\n",
    "    3. Street name is given e.g. Mester utca\n",
    "    4. Subdistrict name is provided e.g. Aquincum"
   ]
  },
  {
   "cell_type": "markdown",
   "metadata": {},
   "source": [
    "- Fully specified address"
   ]
  },
  {
   "cell_type": "code",
   "execution_count": null,
   "metadata": {
    "collapsed": true
   },
   "outputs": [],
   "source": [
    "public_domains=get_public_domain_names()"
   ]
  },
  {
   "cell_type": "code",
   "execution_count": null,
   "metadata": {},
   "outputs": [],
   "source": [
    "street_num_ptrn='|'.join(['.*{}.*\\d'.format(d) for d in public_domains])\n",
    "street_num_mask=train_sale.address.apply(lambda a: bool(re.match(string=str(a), pattern=street_num_ptrn)))\n",
    "street_num_mask.sum()"
   ]
  },
  {
   "cell_type": "code",
   "execution_count": null,
   "metadata": {},
   "outputs": [],
   "source": [
    "train_sale[street_num_mask].tail()"
   ]
  },
  {
   "cell_type": "markdown",
   "metadata": {},
   "source": [
    "- Residental park"
   ]
  },
  {
   "cell_type": "code",
   "execution_count": null,
   "metadata": {},
   "outputs": [],
   "source": [
    "residental_park_mask=train_sale.loc[:,'residental_park_name'].notnull()\n",
    "residental_park_mask.sum()"
   ]
  },
  {
   "cell_type": "markdown",
   "metadata": {},
   "source": [
    "- Street name"
   ]
  },
  {
   "cell_type": "code",
   "execution_count": null,
   "metadata": {},
   "outputs": [],
   "source": [
    "pub_domain_ptrn='|'.join(['.* {}$'.format(d) for d in public_domains])\n",
    "public_domains_mask=train_sale.address.apply(lambda a: bool(re.match(string=str(a), pattern=pub_domain_ptrn)))\n",
    "public_domains_mask.sum()"
   ]
  },
  {
   "cell_type": "code",
   "execution_count": null,
   "metadata": {},
   "outputs": [],
   "source": [
    "train_sale[public_domains_mask].tail()"
   ]
  },
  {
   "cell_type": "code",
   "execution_count": null,
   "metadata": {},
   "outputs": [],
   "source": [
    "train_sale.loc[street_num_mask|residental_park_mask|public_domains_mask, 'address'].count()"
   ]
  },
  {
   "cell_type": "code",
   "execution_count": null,
   "metadata": {},
   "outputs": [],
   "source": [
    "bins=150\n",
    "fig, axs = plt.subplots(1,2)\n",
    "train_sale.loc[:, 'lng'].hist(figsize=(15,10), bins=bins, ax=axs[0])\n",
    "train_sale.loc[street_num_mask|residental_park_mask|public_domains_mask, 'lng'].hist(figsize=(15,10), bins=bins, ax=axs[0], alpha=0.4)\n",
    "train_sale.loc[:, 'lat'].hist(figsize=(15,10), bins=bins, ax=axs[1])\n",
    "train_sale.loc[street_num_mask|residental_park_mask|public_domains_mask, 'lat'].hist(figsize=(15,10), bins=bins, ax=axs[1], alpha=0.4)"
   ]
  },
  {
   "cell_type": "code",
   "execution_count": null,
   "metadata": {},
   "outputs": [],
   "source": [
    "normaltest(train_sale.loc[street_num_mask|residental_park_mask|public_domains_mask, 'avg_price_per_sqm'])"
   ]
  },
  {
   "cell_type": "markdown",
   "metadata": {},
   "source": [
    "### Exporting subdisctrict names with corresponding gps coordianates"
   ]
  },
  {
   "cell_type": "code",
   "execution_count": null,
   "metadata": {
    "collapsed": true
   },
   "outputs": [],
   "source": [
    "sub_district_map=train_sale.loc[~street_num_mask&~residental_park_mask&~public_domains_mask, ['lng', 'lat', 'address']].dropna().drop_duplicates()\n",
    "ptrn='|'.join(['.* {} [0-9A-Z]$'.format(d) for d in public_domains])\n",
    "sub_district_map=sub_district_map[~sub_district_map.address.apply(lambda a: bool(re.match(string=str(a), pattern=ptrn)))]\n",
    "sd_path=os.path.join(DATA_DIR,'subdistrict_map.csv')\n",
    "if not os.path.exists(sd_path):\n",
    "    sub_district_map.to_csv(sd_path, encoding='utf8', index=False)"
   ]
  },
  {
   "cell_type": "markdown",
   "metadata": {},
   "source": [
    "### Removing outliers\n",
    "- Standardization:\n",
    "    - Subtracting mean (centered)\n",
    "    - Deviding by standard deviation (scaled)"
   ]
  },
  {
   "cell_type": "code",
   "execution_count": null,
   "metadata": {
    "collapsed": true
   },
   "outputs": [],
   "source": [
    "df=train_sale.loc[:, num_feat].copy()"
   ]
  },
  {
   "cell_type": "code",
   "execution_count": null,
   "metadata": {
    "collapsed": true
   },
   "outputs": [],
   "source": [
    "scaler=StandardScaler()"
   ]
  },
  {
   "cell_type": "code",
   "execution_count": null,
   "metadata": {
    "collapsed": true
   },
   "outputs": [],
   "source": [
    "st_arr=scaler.fit_transform(df)"
   ]
  },
  {
   "cell_type": "code",
   "execution_count": null,
   "metadata": {
    "collapsed": true
   },
   "outputs": [],
   "source": [
    "st_df=pd.DataFrame(st_arr, columns=df.columns)"
   ]
  },
  {
   "cell_type": "code",
   "execution_count": null,
   "metadata": {},
   "outputs": [],
   "source": [
    "fig, axs = plt.subplots(1,11, figsize=(30,10))\n",
    "for ax, k in zip(axs, st_df):\n",
    "    ax.scatter(range(len(st_df[k])), st_df[k], marker='o', s=10)\n",
    "    ax.set_title(k)\n",
    "    for std in range(-6,7):\n",
    "        ax.axhline(std, c='r')"
   ]
  },
  {
   "cell_type": "code",
   "execution_count": null,
   "metadata": {
    "collapsed": true
   },
   "outputs": [],
   "source": [
    "sigma=2.5"
   ]
  },
  {
   "cell_type": "code",
   "execution_count": null,
   "metadata": {
    "collapsed": true
   },
   "outputs": [],
   "source": [
    "avg_price_mask=(st_df.avg_price_per_sqm.values<=sigma)&(st_df.avg_price_per_sqm.values>=sigma*(-1))\n",
    "log_price_mask=(st_df.log_price_in_huf.values<=sigma)&(st_df.log_price_in_huf.values>=sigma*(-1))\n",
    "log_area_mask=(st_df.log_area_size.values<=sigma)&(st_df.log_area_size.values>=sigma*(-1))\n",
    "lng_mask=(st_df.lng.values<=6)&(st_df.lng.values>=6*(-1))\n",
    "lat_mask=(st_df.lat.values<=6)&(st_df.lat.values>=6*(-1))"
   ]
  },
  {
   "cell_type": "code",
   "execution_count": null,
   "metadata": {},
   "outputs": [],
   "source": [
    "train_sale.loc[(street_num_mask|residental_park_mask|public_domains_mask)&avg_price_mask&log_price_mask&log_area_mask&lng_mask&lat_mask, num_feat].hist(bins=70, figsize=(20,20))\n",
    "plt.show()"
   ]
  },
  {
   "cell_type": "code",
   "execution_count": null,
   "metadata": {},
   "outputs": [],
   "source": [
    "len(train_sale.loc[(street_num_mask|residental_park_mask|public_domains_mask)&log_price_mask&log_area_mask, num_feat])/len(train_sale.loc[(street_num_mask|residental_park_mask|public_domains_mask)])"
   ]
  },
  {
   "cell_type": "code",
   "execution_count": null,
   "metadata": {},
   "outputs": [],
   "source": [
    "m = Basemap(urcrnrlat=max_gps['lat'],     # top\n",
    "              urcrnrlon=max_gps['lng'],   # bottom\n",
    "              llcrnrlat=min_gps['lat'],     # left\n",
    "              llcrnrlon=min_gps['lng'],   # right\n",
    "              epsg=4237)\n",
    "width = 25\n",
    "height = 25 #35\n",
    "fig = plt.gcf()\n",
    "fig.set_size_inches(width, height)\n",
    "dpi = 96\n",
    "xpixels = dpi * width\n",
    "m.arcgisimage(service='Canvas/World_Light_Gray_Base', xpixels=xpixels)\n",
    "ax = plt.gca()\n",
    "train_sale.loc[(street_num_mask|residental_park_mask|public_domains_mask)&log_price_mask&log_area_mask, num_feat].plot(kind='scatter', x='lng', y='lat', c='avg_price_per_sqm', cmap='hot', alpha=0.7, ax=ax)\n",
    "# plt.scatter(x=train_sale['lng'].values, y=train_sale['lat'].values, s=25, alpha=1, linewidth=0.25, edgecolor='Black')\n",
    "# plt.savefig('test.png')\n",
    "plt.show()"
   ]
  },
  {
   "cell_type": "code",
   "execution_count": null,
   "metadata": {},
   "outputs": [],
   "source": [
    "train_sale.loc[(street_num_mask|residental_park_mask|public_domains_mask)&log_price_mask&log_area_mask, num_feat].plot(kind='scatter', x='lng', y='lat', c='avg_price_per_sqm', cmap='hot', figsize=(15,10), alpha=0.7)"
   ]
  },
  {
   "cell_type": "code",
   "execution_count": null,
   "metadata": {
    "collapsed": true
   },
   "outputs": [],
   "source": [
    "train_sale=train_sale.loc[mask,:]"
   ]
  },
  {
   "cell_type": "code",
   "execution_count": null,
   "metadata": {
    "collapsed": true
   },
   "outputs": [],
   "source": [
    "train_sale.loc[mask, ['lat', 'lng']].plot.scatter(x='lng', y='lat', figsize=(10,8))"
   ]
  },
  {
   "cell_type": "code",
   "execution_count": null,
   "metadata": {
    "collapsed": true
   },
   "outputs": [],
   "source": [
    "train_sale.loc[mask, ['lat', 'lng']].hist(bins=90, figsize=(15,10))"
   ]
  },
  {
   "cell_type": "code",
   "execution_count": null,
   "metadata": {
    "collapsed": true
   },
   "outputs": [],
   "source": [
    "top_50[45]"
   ]
  },
  {
   "cell_type": "code",
   "execution_count": null,
   "metadata": {
    "collapsed": true
   },
   "outputs": [],
   "source": [
    "train_sale.loc[train_sale.address==' Király utca',[ 'price_in_huf', 'area_size']].hist(figsize=(10,10), bins=30)"
   ]
  },
  {
   "cell_type": "code",
   "execution_count": null,
   "metadata": {
    "collapsed": true
   },
   "outputs": [],
   "source": [
    "for train_sale.loc[(train_sale.lng==top_10.iloc[8].name[0])&(train_sale.lat==top_10.iloc[8].name[1])]"
   ]
  },
  {
   "cell_type": "code",
   "execution_count": null,
   "metadata": {
    "collapsed": true
   },
   "outputs": [],
   "source": [
    "top_8_data"
   ]
  },
  {
   "cell_type": "code",
   "execution_count": null,
   "metadata": {
    "collapsed": true
   },
   "outputs": [],
   "source": [
    "a=train_sale.loc[(train_sale.lng==top_10.iloc[0].name[0])&(train_sale.lat==top_10.iloc[0].name[1]), 'price_in_huf']/train_sale.loc[(train_sale.lng==top_10.iloc[0].name[0])&(train_sale.lat==top_10.iloc[0].name[1]), 'area_size']"
   ]
  },
  {
   "cell_type": "code",
   "execution_count": null,
   "metadata": {
    "collapsed": true
   },
   "outputs": [],
   "source": [
    "a.describe()"
   ]
  },
  {
   "cell_type": "code",
   "execution_count": null,
   "metadata": {
    "collapsed": true
   },
   "outputs": [],
   "source": [
    "a.hist(bins=30)"
   ]
  },
  {
   "cell_type": "code",
   "execution_count": null,
   "metadata": {
    "collapsed": true
   },
   "outputs": [],
   "source": [
    "?scatter_matrix"
   ]
  },
  {
   "cell_type": "code",
   "execution_count": null,
   "metadata": {
    "collapsed": true
   },
   "outputs": [],
   "source": [
    "data=train_sale.loc[(train_sale.lng==top_10.iloc[0].name[0])&(train_sale.lat==top_10.iloc[0].name[1]), ['price_in_huf', 'area_size', 'room_lt_12_sqm', 'room_ge_12_sqm']]\n",
    "scatter_matrix(data, figsize=(20,20), hist_kwds={'bins':30})\n",
    "plt.show()"
   ]
  },
  {
   "cell_type": "code",
   "execution_count": null,
   "metadata": {
    "collapsed": true
   },
   "outputs": [],
   "source": [
    "train_sale.loc[(train_sale.lng==top_10.iloc[0].name[0])&(train_sale.lat==top_10.iloc[0].name[1]), ['price_in_huf', 'area_size', 'room_lt_12_sqm', 'room_ge_12_sqm']]"
   ]
  },
  {
   "cell_type": "code",
   "execution_count": null,
   "metadata": {
    "collapsed": true
   },
   "outputs": [],
   "source": [
    "a.describe()"
   ]
  },
  {
   "cell_type": "code",
   "execution_count": null,
   "metadata": {
    "collapsed": true
   },
   "outputs": [],
   "source": [
    "train_sale.loc[(train_sale.lng==top_10.iloc[0].name[0])&(train_sale.lat==top_10.iloc[0].name[1])].describe()"
   ]
  },
  {
   "cell_type": "markdown",
   "metadata": {},
   "source": [
    "### Generate random colors for histogram"
   ]
  },
  {
   "cell_type": "code",
   "execution_count": null,
   "metadata": {
    "collapsed": true
   },
   "outputs": [],
   "source": [
    "mask=street_num_mask|residental_park_mask|public_domains_mask"
   ]
  },
  {
   "cell_type": "code",
   "execution_count": null,
   "metadata": {
    "collapsed": true
   },
   "outputs": [],
   "source": [
    "train_sale=train_sale[mask]"
   ]
  },
  {
   "cell_type": "code",
   "execution_count": null,
   "metadata": {
    "collapsed": true
   },
   "outputs": [],
   "source": [
    "with open(os.path.join(DATA_DIR, 'colors_23'), 'rb') as f:\n",
    "    rnd_colors=pickle.load(f)"
   ]
  },
  {
   "cell_type": "code",
   "execution_count": null,
   "metadata": {
    "collapsed": true
   },
   "outputs": [],
   "source": [
    "rnd_colors=np.random.choice(list(mpl.cm.colors.cnames.keys()), size=23, replace=False)"
   ]
  },
  {
   "cell_type": "code",
   "execution_count": null,
   "metadata": {
    "collapsed": true
   },
   "outputs": [],
   "source": [
    "cmap={k:c for k,c in zip(train_sale.city_district.unique(), rnd_colors)}\n",
    "train_sale['district_colors']=train_sale['city_district'].map(cmap)\n",
    "gps_by_district=[train_sale.loc[train_sale.city_district==d, ['lng', 'lat', 'city_district', 'district_colors']] for d in train_sale.city_district.drop_duplicates()]\n",
    "lng=[df['lng'] for df in gps_by_district]\n",
    "lat=[df['lat'] for df in gps_by_district]\n",
    "colors=[df['district_colors'] for df in gps_by_district]"
   ]
  },
  {
   "cell_type": "code",
   "execution_count": null,
   "metadata": {
    "collapsed": true
   },
   "outputs": [],
   "source": [
    "plt.style.use('ggplot')"
   ]
  },
  {
   "cell_type": "code",
   "execution_count": null,
   "metadata": {},
   "outputs": [],
   "source": [
    "fig, axs = plt.subplots(2,2)\n",
    "fig.set_size_inches(20,20)\n",
    "for x, y, c in zip(lng, lat, rnd_colors):\n",
    "    axs[1,0].scatter(x=x, y=y, color=c, linewidth=0.25, edgecolor='Black', alpha=0.5)\n",
    "axs[0,0].hist(lng, color=rnd_colors, histtype='barstacked', bins=80, linewidth=0.3, edgecolor='Black')\n",
    "axs[1,1].hist(lat, color=rnd_colors, histtype='barstacked', bins=80, orientation='horizontal', linewidth=0.3, edgecolor='Black')\n",
    "axs[0,1].axis('off')\n",
    "plt.tight_layout()\n",
    "plt.show()"
   ]
  },
  {
   "cell_type": "code",
   "execution_count": null,
   "metadata": {
    "collapsed": true
   },
   "outputs": [],
   "source": [
    "?plt.text"
   ]
  },
  {
   "cell_type": "code",
   "execution_count": null,
   "metadata": {
    "collapsed": true
   },
   "outputs": [],
   "source": [
    "import seaborn as sns"
   ]
  },
  {
   "cell_type": "code",
   "execution_count": null,
   "metadata": {
    "collapsed": true
   },
   "outputs": [],
   "source": [
    "plt.figure(figsize=(10,10))\n",
    "sns.distplot(listings., bins=120)\n"
   ]
  },
  {
   "cell_type": "code",
   "execution_count": null,
   "metadata": {
    "collapsed": true
   },
   "outputs": [],
   "source": [
    "listings.loc[sale_flt,['lng', 'lat', 'price_in_huf', 'area_size', 'avg_price_per_sqm', 'room_ge_12_sqm', 'room_lt_12_sqm']].hist(figsize=(20,20), bins=120)"
   ]
  },
  {
   "cell_type": "code",
   "execution_count": null,
   "metadata": {
    "collapsed": true
   },
   "outputs": [],
   "source": [
    "listings.dtypes"
   ]
  },
  {
   "cell_type": "code",
   "execution_count": null,
   "metadata": {
    "collapsed": true
   },
   "outputs": [],
   "source": [
    "raw.loc[raw.listing_type=='for-rent' ,['lng', 'lat', 'price_in_huf', 'area_size', 'room', 'city_district', 'address', 'listing_type']]"
   ]
  },
  {
   "cell_type": "code",
   "execution_count": null,
   "metadata": {
    "collapsed": true
   },
   "outputs": [],
   "source": [
    "from mpl_toolkits.basemap import Basemap "
   ]
  },
  {
   "cell_type": "code",
   "execution_count": null,
   "metadata": {
    "collapsed": true
   },
   "outputs": [],
   "source": [
    "import mpld3"
   ]
  },
  {
   "cell_type": "code",
   "execution_count": null,
   "metadata": {
    "collapsed": true
   },
   "outputs": [],
   "source": [
    "import plotly\n",
    "plotly.offline.init_notebook_mode()"
   ]
  },
  {
   "cell_type": "code",
   "execution_count": null,
   "metadata": {
    "collapsed": true
   },
   "outputs": [],
   "source": [
    "plt.scatter(x=raw.loc[raw.listing_type=='for-sale' ,'lng'].values,\n",
    "            y=raw.loc[raw.listing_type=='for-sale' ,'lat'].values, alpha=1, s=25, marker='o', color='b')\n",
    "# fig=plt.gcf()\n",
    "# mpld3.display(fig)\n",
    "pfig = plotly.tools.mpl_to_plotly(plt.gcf())\n",
    "plotly.offline.iplot(pfig)"
   ]
  },
  {
   "cell_type": "code",
   "execution_count": null,
   "metadata": {
    "collapsed": true
   },
   "outputs": [],
   "source": [
    "os.getcwd()"
   ]
  },
  {
   "cell_type": "code",
   "execution_count": null,
   "metadata": {
    "collapsed": true
   },
   "outputs": [],
   "source": [
    "raw.loc[raw.listing_type=='for-sale' ,['lng', 'lat']].plot(kind='scatter', x='lng', y='lat', figsize=(20,10), alpha=0.05)"
   ]
  },
  {
   "cell_type": "code",
   "execution_count": null,
   "metadata": {
    "collapsed": true
   },
   "outputs": [],
   "source": [
    "listings['avg_price_per_sqm']=listings['price_in_huf']/listings['area_size']"
   ]
  },
  {
   "cell_type": "code",
   "execution_count": null,
   "metadata": {},
   "outputs": [],
   "source": [
    "danube=load_danube_gps_coordinates(json_path=os.path.join(DATA_DIR, 'danube.geojson'))"
   ]
  }
 ],
 "metadata": {
  "kernelspec": {
   "display_name": "Python [conda env:Anaconda3]",
   "language": "python",
   "name": "conda-env-Anaconda3-py"
  },
  "language_info": {
   "codemirror_mode": {
    "name": "ipython",
    "version": 3
   },
   "file_extension": ".py",
   "mimetype": "text/x-python",
   "name": "python",
   "nbconvert_exporter": "python",
   "pygments_lexer": "ipython3",
   "version": "3.6.3"
  }
 },
 "nbformat": 4,
 "nbformat_minor": 2
}
