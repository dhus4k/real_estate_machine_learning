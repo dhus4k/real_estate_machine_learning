{
 "cells": [
  {
   "cell_type": "markdown",
   "metadata": {},
   "source": [
    "# Machine Learning Project Checklist"
   ]
  },
  {
   "cell_type": "markdown",
   "metadata": {},
   "source": [
    "1. Frame the problem and look at the big picture.\n",
    "\n",
    "2. Get the data.\n",
    "\n",
    "3. Explore the data to gain insights.\n",
    "\n",
    "4. Explore many different models and short-list the best ones.\n",
    "\n",
    "5. Fine-tune your models and combine them into a great solution.\n",
    "\n",
    "6. Present your solution."
   ]
  },
  {
   "cell_type": "markdown",
   "metadata": {},
   "source": [
    "### Objective"
   ]
  },
  {
   "cell_type": "markdown",
   "metadata": {},
   "source": [
    "Build an **intuitive** Machine Learning model to evaluate fair offer price of the given property in Budapest\n",
    "- Dependent variable (predicted): **Price per squaremeter**\n",
    "- Explanatory variables (features): GPS coordinates (**Latitude**, **Longitude**)"
   ]
  },
  {
   "cell_type": "code",
   "execution_count": 1,
   "metadata": {
    "collapsed": true
   },
   "outputs": [],
   "source": [
    "import os\n",
    "REPO_DIR = os.path.join(os.environ['USERPROFILE'], 'repos')\n",
    "PROJ_DIR = os.path.join(REPO_DIR, 'real_estate_machine_learning')\n",
    "os.chdir(PROJ_DIR)"
   ]
  },
  {
   "cell_type": "code",
   "execution_count": 2,
   "metadata": {
    "collapsed": true
   },
   "outputs": [],
   "source": [
    "DATA_DIR = './data'\n",
    "INT_DIR = os.path.join(DATA_DIR, 'interim')\n",
    "PRO_DIR = os.path.join(DATA_DIR, 'processed')\n",
    "MODEL_DIR = './model'\n",
    "TMP_DIR = os.path.join(MODEL_DIR, 'tmp')\n",
    "TRAIN_SALE_FN = 'training_sale_20181101.csv'\n",
    "TEST_SALE_FN = 'testing_sale_20181101.csv'\n",
    "TRAIN_CLASS_FN = 'training_class_20181101.csv'"
   ]
  },
  {
   "cell_type": "code",
   "execution_count": 4,
   "metadata": {},
   "outputs": [],
   "source": [
    "import pandas as pd, numpy as np\n",
    "import datetime\n",
    "import tensorflow as tf\n",
    "import tensorboard as tb\n",
    "from src.processing import split_train_test_by_hash"
   ]
  },
  {
   "cell_type": "code",
   "execution_count": 5,
   "metadata": {
    "collapsed": true
   },
   "outputs": [],
   "source": [
    "from sklearn.preprocessing import StandardScaler, OneHotEncoder, LabelEncoder\n",
    "from sklearn.model_selection import train_test_split"
   ]
  },
  {
   "cell_type": "code",
   "execution_count": 6,
   "metadata": {
    "collapsed": true
   },
   "outputs": [],
   "source": [
    "from tensorflow.contrib.learn import DNNRegressor"
   ]
  },
  {
   "cell_type": "code",
   "execution_count": 7,
   "metadata": {
    "collapsed": true
   },
   "outputs": [],
   "source": [
    "from sklearn.linear_model import LinearRegression, LogisticRegression"
   ]
  },
  {
   "cell_type": "markdown",
   "metadata": {},
   "source": [
    "Load datasets:"
   ]
  },
  {
   "cell_type": "code",
   "execution_count": 8,
   "metadata": {
    "collapsed": true
   },
   "outputs": [],
   "source": [
    "train_sale = pd.read_csv(os.path.join(PRO_DIR, TRAIN_SALE_FN), encoding='utf8')"
   ]
  },
  {
   "cell_type": "code",
   "execution_count": 9,
   "metadata": {},
   "outputs": [
    {
     "data": {
      "text/plain": [
       "Index(['address', 'accessibility', 'ceiling_height', 'buses', 'buses_count',\n",
       "       'furnished', 'desc', 'city_district', 'smoking', 'floors',\n",
       "       'energy_perf_cert', 'balcony', 'bath_and_wc', 'type_of_heating',\n",
       "       'equipped', 'boats', 'boats_count', 'local_railways',\n",
       "       'local_railways_count', 'condition_of_real_estate',\n",
       "       'with_entry_to_garden', 'view', 'pets', 'convenience_level', 'vacant',\n",
       "       'residental_park_name', 'lat', 'lift', 'lng', 'air_conditioned',\n",
       "       'metro_lines', 'metro_lines_count', 'min_tenancy', 'panelprogram',\n",
       "       'parking', 'price_in_huf', 'area_size', 'utilities', 'attic',\n",
       "       'trolley_buses', 'trolley_buses_count', 'listing_type', 'orientation',\n",
       "       'trams', 'trams_count', 'all_night_services',\n",
       "       'all_night_services_count', 'year_built', 'building_floors',\n",
       "       'timestamp', 'elevation', 'room_lt_12_sqm', 'room_ge_12_sqm',\n",
       "       'room_total', 'parking_lot_in_huf', 'parking_lot_in_eur',\n",
       "       'parking_lot_in_huf_monthly', 'parking_lot_in_eur_monthly',\n",
       "       'price_per_sqm', 'log_price_in_huf', 'log_area_size',\n",
       "       'log_price_per_sqm', 'gps_count'],\n",
       "      dtype='object')"
      ]
     },
     "execution_count": 9,
     "metadata": {},
     "output_type": "execute_result"
    }
   ],
   "source": [
    "train_sale.columns"
   ]
  },
  {
   "cell_type": "code",
   "execution_count": 10,
   "metadata": {
    "collapsed": true
   },
   "outputs": [],
   "source": [
    "train_sale['log_price_in_huf'] = np.log(train_sale.price_in_huf)"
   ]
  },
  {
   "cell_type": "code",
   "execution_count": 11,
   "metadata": {
    "collapsed": true
   },
   "outputs": [],
   "source": [
    "train_class = pd.read_csv(os.path.join(PRO_DIR, TRAIN_CLASS_FN), encoding='utf8')"
   ]
  },
  {
   "cell_type": "code",
   "execution_count": 12,
   "metadata": {
    "collapsed": true
   },
   "outputs": [],
   "source": [
    "train_class['inhabited'] = (train_class.label == 'inhabited_budapest') *1"
   ]
  },
  {
   "cell_type": "code",
   "execution_count": 13,
   "metadata": {},
   "outputs": [
    {
     "data": {
      "text/html": [
       "<div>\n",
       "<style scoped>\n",
       "    .dataframe tbody tr th:only-of-type {\n",
       "        vertical-align: middle;\n",
       "    }\n",
       "\n",
       "    .dataframe tbody tr th {\n",
       "        vertical-align: top;\n",
       "    }\n",
       "\n",
       "    .dataframe thead th {\n",
       "        text-align: right;\n",
       "    }\n",
       "</style>\n",
       "<table border=\"1\" class=\"dataframe\">\n",
       "  <thead>\n",
       "    <tr style=\"text-align: right;\">\n",
       "      <th></th>\n",
       "      <th>lat</th>\n",
       "      <th>lng</th>\n",
       "      <th>label</th>\n",
       "      <th>label_factor</th>\n",
       "      <th>inhabited</th>\n",
       "    </tr>\n",
       "  </thead>\n",
       "  <tbody>\n",
       "    <tr>\n",
       "      <th>0</th>\n",
       "      <td>47.513012</td>\n",
       "      <td>19.057450</td>\n",
       "      <td>inhabited_budapest</td>\n",
       "      <td>0</td>\n",
       "      <td>1</td>\n",
       "    </tr>\n",
       "    <tr>\n",
       "      <th>1</th>\n",
       "      <td>47.581464</td>\n",
       "      <td>19.103602</td>\n",
       "      <td>inhabited_budapest</td>\n",
       "      <td>0</td>\n",
       "      <td>1</td>\n",
       "    </tr>\n",
       "    <tr>\n",
       "      <th>2</th>\n",
       "      <td>47.529426</td>\n",
       "      <td>19.125456</td>\n",
       "      <td>inhabited_budapest</td>\n",
       "      <td>0</td>\n",
       "      <td>1</td>\n",
       "    </tr>\n",
       "    <tr>\n",
       "      <th>3</th>\n",
       "      <td>47.501567</td>\n",
       "      <td>19.062093</td>\n",
       "      <td>inhabited_budapest</td>\n",
       "      <td>0</td>\n",
       "      <td>1</td>\n",
       "    </tr>\n",
       "    <tr>\n",
       "      <th>4</th>\n",
       "      <td>47.512733</td>\n",
       "      <td>19.125820</td>\n",
       "      <td>inhabited_budapest</td>\n",
       "      <td>0</td>\n",
       "      <td>1</td>\n",
       "    </tr>\n",
       "  </tbody>\n",
       "</table>\n",
       "</div>"
      ],
      "text/plain": [
       "         lat        lng               label  label_factor  inhabited\n",
       "0  47.513012  19.057450  inhabited_budapest             0          1\n",
       "1  47.581464  19.103602  inhabited_budapest             0          1\n",
       "2  47.529426  19.125456  inhabited_budapest             0          1\n",
       "3  47.501567  19.062093  inhabited_budapest             0          1\n",
       "4  47.512733  19.125820  inhabited_budapest             0          1"
      ]
     },
     "execution_count": 13,
     "metadata": {},
     "output_type": "execute_result"
    }
   ],
   "source": [
    "train_class.head()"
   ]
  },
  {
   "cell_type": "code",
   "execution_count": 14,
   "metadata": {
    "collapsed": true
   },
   "outputs": [],
   "source": [
    "class Linear:\n",
    "    \n",
    "    def __init__(self, batch_size = np.inf, n_epochs = 1000, learning_rate = 0.01, echo = True):\n",
    "        \n",
    "        self._batch_size = batch_size\n",
    "        self.n_epochs = n_epochs\n",
    "        self.learning_rate = learning_rate\n",
    "        self.echo = echo\n",
    "        \n",
    "    def fit(self, input_X, input_Y, checkpoint_path = None, log = False):\n",
    "        \n",
    "        now = datetime.datetime.utcnow().strftime('%Y%m%d%H%M%S')\n",
    "        root_logdir = 'tf_logs'\n",
    "        logdir = '{}/run-{}/'.format(root_logdir, now)\n",
    "        \n",
    "        m, n = input_X.shape\n",
    "        input_X = np.concatenate([np.ones(shape=(m, 1)), input_X], axis=1)\n",
    "        self.batch_size = int(np.minimum(m, self._batch_size))\n",
    "        n_batches = int(np.ceil(m/self.batch_size))\n",
    "        \n",
    "        X = tf.placeholder(tf.float32, name='X')\n",
    "        y = tf.placeholder(tf.float32, name='y')\n",
    "        weights = tf.Variable(tf.random_uniform(shape=(n+1, 1), minval=-1, maxval=1, dtype=tf.float32), name='weights')\n",
    "        y_pred = tf.matmul(a=X, b=weights)\n",
    "        with tf.name_scope('loss'):\n",
    "            error = y - y_pred\n",
    "            sqd_error = tf.square(error)\n",
    "            mse = tf.reduce_mean(sqd_error, name='mse')\n",
    "        gradients = tf.gradients(mse, [weights])[0]\n",
    "        training_op = tf.assign(weights, weights - self.learning_rate * gradients)\n",
    "        init = tf.global_variables_initializer()\n",
    "        saver = tf.train.Saver()\n",
    "        with tf.name_scope('summary'):\n",
    "            mse_summary = tf.summary.scalar('MSE', mse)\n",
    "            file_writer = tf.summary.FileWriter(logdir, tf.get_default_graph())\n",
    "        \n",
    "        with tf.Session() as sess:\n",
    "            sess.run(init)\n",
    "            for epoch in range(self.n_epochs):\n",
    "                for batch in range(n_batches):\n",
    "                    idx = np.random.choice(m, size = self.batch_size, replace=False)\n",
    "                    if batch % 10:\n",
    "                        summary_str = mse_summary.eval(feed_dict={X: input_X[idx,], y: input_Y[idx,]})\n",
    "                        step = epoch * n_batches + batch\n",
    "                        file_writer.add_summary(summary_str, step)\n",
    "                    sess.run(training_op, feed_dict={X: input_X[idx,], y: input_Y[idx,]})\n",
    "                    \n",
    "            best_weigths = weights.eval()\n",
    "            self.weights = best_weigths\n",
    "        file_writer.close()\n",
    "        \n",
    "    def fit_w_optimizer(self, X, Y):\n",
    "        m, n = X.shape\n",
    "        X = tf.constant(np.concatenate([np.ones(shape=(m,1)), X], axis=1), dtype=tf.float32, name='X')\n",
    "        y = tf.constant(Y, dtype=tf.float32, name='y')\n",
    "        weights = tf.Variable(tf.random_uniform(shape=(n+1, 1), minval=-1, maxval=1, dtype=tf.float32), name='weights')\n",
    "        y_pred = tf.matmul(a=X, b=weights)\n",
    "        error = y - y_pred\n",
    "        sqd_error = tf.square(error)\n",
    "        mse = tf.reduce_mean(sqd_error, name='mse')\n",
    "        optimizer = tf.train.GradientDescentOptimizer(learning_rate=self.learning_rate)\n",
    "        training_op = optimizer.minimize(mse)\n",
    "        init = tf.global_variables_initializer()\n",
    "        \n",
    "        \n",
    "        with tf.Session() as sess:\n",
    "            sess.run(init)\n",
    "\n",
    "            for epoch in range(self.n_epochs):\n",
    "                if epoch % 100 == 0:\n",
    "                    if self.echo :\n",
    "                        print(\"Epoch\", epoch, \"MSE =\", mse.eval())\n",
    "                sess.run(training_op)\n",
    "\n",
    "            best_weigths = weights.eval()\n",
    "            self.weights = best_weigths\n",
    "    \n",
    "    def predict(self, X):\n",
    "        m, n = X.shape\n",
    "        X = tf.constant(np.concatenate([np.ones(shape=(m,1)), X], axis=1), dtype=tf.float32, name='X')\n",
    "        weights = tf.constant(self.weights, name='weights')\n",
    "        y_pred = tf.matmul(a=X, b=weights)\n",
    "\n",
    "        with tf.Session() as sess:\n",
    "            return y_pred.eval()"
   ]
  },
  {
   "cell_type": "code",
   "execution_count": 15,
   "metadata": {
    "collapsed": true
   },
   "outputs": [],
   "source": [
    "class Logistic:\n",
    "    \n",
    "    def __init__(self, batch_size = np.inf, n_epochs = 1000, learning_rate = 0.01, echo = True):\n",
    "        \n",
    "        self._batch_size = batch_size\n",
    "        self.n_epochs = n_epochs\n",
    "        self.learning_rate = learning_rate\n",
    "        self.echo = echo\n",
    "        \n",
    "    def fit(self, input_X, input_Y, checkpoint_path = None, log = False):\n",
    "        \n",
    "        now = datetime.datetime.utcnow().strftime('%Y%m%d%H%M%S')\n",
    "        root_logdir = 'tf_logs'\n",
    "        logdir = '{}/run-{}/'.format(root_logdir, now)\n",
    "        \n",
    "        m, n = input_X.shape\n",
    "        m, n_labels = input_Y.shape\n",
    "        input_X_with_bias = np.concatenate([np.ones(shape=(m, 1)), input_X], axis=1)\n",
    "        self.batch_size = int(np.minimum(m, self._batch_size))\n",
    "        n_batches = int(np.ceil(m/self.batch_size))\n",
    "        \n",
    "        X = tf.placeholder(tf.float32, shape=(None, n+1), name='X')\n",
    "        Y = tf.placeholder(tf.float32, shape=(None, n_labels), name='Y')\n",
    "        weights = tf.Variable(tf.random_uniform(shape=(n+1, n_labels), minval=-1, maxval=1, dtype=tf.float32), name='weights')\n",
    "        score = tf.matmul(a=X, b=weights)\n",
    "        prob = 1/(1+tf.exp(-score))\n",
    "#         exp_score = tf.exp(score)\n",
    "#         prob = exp_score/tf.reduce_sum(input_tensor=exp_score, axis=1)\n",
    "\n",
    "        log_loss = -tf.reduce_mean(tf.log(prob+1e-7) * Y + tf.log(prob+1e-7) * (1 - Y) )\n",
    "#         log_loss = -tf.reduce_mean(tf.log(tf.reduce_sum(prob * Y, axis=1)))\n",
    "        gradients = tf.gradients(log_loss, [weights])[0]\n",
    "        training_op = tf.assign(weights, weights - self.learning_rate * gradients)\n",
    "        init = tf.global_variables_initializer()\n",
    "#         saver = tf.train.Saver()\n",
    "#         with tf.name_scope('summary'):\n",
    "#             mse_summary = tf.summary.scalar('MSE', mse)\n",
    "#             file_writer = tf.summary.FileWriter(logdir, tf.get_default_graph())\n",
    "        \n",
    "        with tf.Session() as sess:\n",
    "            sess.run(init)\n",
    "            for epoch in range(self.n_epochs):\n",
    "                idx = np.random.choice(m, size = self.batch_size, replace=False)\n",
    "                sess.run(training_op, feed_dict={X: input_X_with_bias[idx,], Y: input_Y[idx,]})\n",
    "                if epoch % 100 == 0:\n",
    "                    if self.echo :\n",
    "                        print(\"Epoch\", epoch, \"logloss =\", log_loss.eval(feed_dict={X: input_X_with_bias[idx,], Y: input_Y[idx,]}))\n",
    "            best_weigths = weights.eval()\n",
    "            self.weights = best_weigths\n",
    "#         file_writer.close()\n",
    "    \n",
    "    def predict(self, X):\n",
    "        m, n = X.shape\n",
    "        X = tf.constant(np.concatenate([np.ones(shape=(m,1)), X], axis=1), dtype=tf.float32, name='X')\n",
    "        weights = tf.constant(self.weights, name='weights')\n",
    "        y_pred = tf.matmul(a=X, b=weights)\n",
    "\n",
    "        with tf.Session() as sess:\n",
    "            return y_pred.eval()"
   ]
  },
  {
   "cell_type": "code",
   "execution_count": 16,
   "metadata": {
    "collapsed": true
   },
   "outputs": [],
   "source": [
    "scaler = StandardScaler()"
   ]
  },
  {
   "cell_type": "code",
   "execution_count": 17,
   "metadata": {
    "collapsed": true
   },
   "outputs": [],
   "source": [
    "from sklearn.preprocessing import MinMaxScaler"
   ]
  },
  {
   "cell_type": "code",
   "execution_count": 18,
   "metadata": {
    "collapsed": true
   },
   "outputs": [],
   "source": [
    "scaler = MinMaxScaler(feature_range=(-1,1))"
   ]
  },
  {
   "cell_type": "code",
   "execution_count": 19,
   "metadata": {
    "collapsed": true
   },
   "outputs": [],
   "source": [
    "st_train_sale = scaler.fit_transform(train_sale[['lat', 'lng', 'price_per_sqm']].values)"
   ]
  },
  {
   "cell_type": "code",
   "execution_count": 102,
   "metadata": {
    "scrolled": false
   },
   "outputs": [
    {
     "name": "stdout",
     "output_type": "stream",
     "text": [
      "0 Train accuracy: -4.630564407234507\n",
      "100 Train accuracy: 0.1971640994815489\n",
      "200 Train accuracy: 0.17495443586864212\n",
      "300 Train accuracy: 0.1515658798543168\n",
      "400 Train accuracy: 0.17223496604472455\n",
      "500 Train accuracy: 0.14761744813473632\n",
      "600 Train accuracy: 0.18164319167556486\n",
      "700 Train accuracy: 0.1754994026275032\n",
      "800 Train accuracy: 0.14100259342963206\n",
      "900 Train accuracy: 0.16649453313334328\n"
     ]
    }
   ],
   "source": [
    "input_X = st_train_sale[:,:2]\n",
    "# input_Y = train_sale[['price_per_sqm']].values\n",
    "input_Y = st_train_sale[:,-1:]\n",
    "\n",
    "m = len(train_sale)\n",
    "n_inputs = 2\n",
    "n_hidden1 = 5\n",
    "# n_hidden2 = 50\n",
    "# n_hidden3 = 25\n",
    "# n_hidden4 = 10\n",
    "# n_hidden5 = 5\n",
    "n_outputs = 1\n",
    "\n",
    "X = tf.placeholder(dtype=tf.float64, shape=(None, n_inputs), name='X')\n",
    "Y = tf.placeholder(dtype=tf.float64, shape=(None, n_outputs), name='Y')\n",
    "\n",
    "with tf.variable_scope(\"dnn\"):\n",
    "#     hidden1 = tf.layers.dense(X, n_hidden1, name=\"hidden1\",\n",
    "#                               activation=tf.nn.relu)\n",
    "#     hidden2 = tf.layers.dense(hidden1, n_hidden2, name=\"hidden2\",\n",
    "#                               activation=tf.nn.relu)\n",
    "#     hidden3 = tf.layers.dense(hidden2, n_hidden3, name=\"hidden3\",\n",
    "#                               activation=tf.nn.relu)\n",
    "#     hidden4 = tf.layers.dense(hidden3, n_hidden4, name=\"hidden4\",\n",
    "#                               activation=tf.nn.relu)\n",
    "#     hidden5 = tf.layers.dense(hidden4, n_hidden5, name=\"hidden5\",\n",
    "#                               activation=tf.nn.relu)\n",
    "    Y_pred = tf.layers.dense(X, n_outputs, name=\"outputs\")\n",
    "#     Y_pred = tf.layers.dense(hidden1, n_outputs, name=\"outputs\")\n",
    " \n",
    "with tf.name_scope('loss'):\n",
    "    error = Y_pred - Y\n",
    "    sse = tf.reduce_sum(tf.square(error), name='sse')\n",
    "    mse = tf.reduce_mean(tf.square(error), name='mse')\n",
    "    sst = tf.reduce_sum(tf.square(Y - tf.reduce_mean(Y)), name='sst')\n",
    "    r2 = 1 -(sse/sst)\n",
    "\n",
    "learning_rate = 0.01\n",
    "\n",
    "with tf.name_scope(\"train\"):\n",
    "#     optimizer = tf.train.MomentumOptimizer(learning_rate=learning_rate, momentum=0.9, use_nesterov=True)\n",
    "    optimizer = tf.train.GradientDescentOptimizer(learning_rate=learning_rate)\n",
    "    training_op = optimizer.minimize(mse)\n",
    "\n",
    "# with tf.variable_scope(\"outputs\", reuse=True):\n",
    "#     weights = tf.get_variable(\"kernel\")\n",
    "\n",
    "init = tf.global_variables_initializer()\n",
    "saver = tf.train.Saver()\n",
    "\n",
    "n_epochs = 100\n",
    "batch_size = 100\n",
    "\n",
    "with tf.Session() as sess:\n",
    "    init.run()\n",
    "    for epoch in range(n_epochs):\n",
    "        for iteration in range(m // batch_size):\n",
    "            idx = np.random.choice(m, size = batch_size, replace=False)\n",
    "            X_batch, Y_batch = input_X[idx,], input_Y[idx,]\n",
    "            sess.run(training_op, feed_dict={X:  X_batch, Y: Y_batch})\n",
    "            acc_train = r2.eval(feed_dict={X:  X_batch, Y: Y_batch})\n",
    "        if epoch % 100==0:\n",
    "#             if epoch % 100==0:\n",
    "            print(epoch, \"Train accuracy:\", acc_train)\n",
    "                \n",
    "#     save_path = saver.save(sess, \"/tmp/my_model_.ckpt\")"
   ]
  },
  {
   "cell_type": "code",
   "execution_count": 120,
   "metadata": {
    "collapsed": true
   },
   "outputs": [],
   "source": [
    "def neuron_layer(X, n_neurons, name, activation=None):\n",
    "    with tf.name_scope(name):\n",
    "        n_inputs = int(X.get_shape()[1])\n",
    "        stddev = 2 / np.sqrt(n_inputs + n_neurons)\n",
    "        init = tf.truncated_normal((n_inputs, n_neurons), stddev=stddev)\n",
    "        W = tf.Variable(init, name=\"kernel\")\n",
    "        b = tf.Variable(tf.zeros([n_neurons]), name=\"bias\")\n",
    "        Z = tf.matmul(X, W) + b\n",
    "        if activation is not None:\n",
    "            return activation(Z)\n",
    "        else:\n",
    "            return Z"
   ]
  },
  {
   "cell_type": "code",
   "execution_count": 23,
   "metadata": {},
   "outputs": [
    {
     "data": {
      "text/plain": [
       "array([[-0.4314814 , -0.17981517, -0.39283519],\n",
       "       [ 0.24762311,  0.04552419, -0.49742046],\n",
       "       [ 0.24636657,  0.04410701, -0.50993871],\n",
       "       ...,\n",
       "       [ 0.12393181, -0.36758066,  0.0463655 ],\n",
       "       [ 0.06966471, -0.07525533, -0.61528208],\n",
       "       [-0.03017184, -0.14991337,  0.64276013]])"
      ]
     },
     "execution_count": 23,
     "metadata": {},
     "output_type": "execute_result"
    }
   ],
   "source": [
    "st_train_sale"
   ]
  },
  {
   "cell_type": "code",
   "execution_count": 24,
   "metadata": {},
   "outputs": [
    {
     "data": {
      "text/plain": [
       "array([[-0.4314814 , -0.17981517],\n",
       "       [ 0.24762311,  0.04552419],\n",
       "       [ 0.24636657,  0.04410701],\n",
       "       ...,\n",
       "       [ 0.12393181, -0.36758066],\n",
       "       [ 0.06966471, -0.07525533],\n",
       "       [-0.03017184, -0.14991337]])"
      ]
     },
     "execution_count": 24,
     "metadata": {},
     "output_type": "execute_result"
    }
   ],
   "source": [
    "st_train_sale[:,:2]"
   ]
  },
  {
   "cell_type": "code",
   "execution_count": 39,
   "metadata": {
    "collapsed": true
   },
   "outputs": [],
   "source": [
    "input_X, input_Y = st_train_sale[:,:2], st_train_sale[:,2:]"
   ]
  },
  {
   "cell_type": "code",
   "execution_count": 57,
   "metadata": {
    "scrolled": false
   },
   "outputs": [
    {
     "name": "stdout",
     "output_type": "stream",
     "text": [
      "Epoch: 0, Training acc: 0.11529943705204737, Validation acc: 0.12173415871470217\n",
      "Epoch: 500, Training acc: 0.3497360750836712, Validation acc: 0.3414561655070527\n",
      "Epoch: 1000, Training acc: 0.3904487563174197, Validation acc: 0.3957298218042411\n",
      "Epoch: 1500, Training acc: 0.4666692105853998, Validation acc: 0.4273678991379498\n",
      "Epoch: 2000, Training acc: 0.4669929437897624, Validation acc: 0.43822159179954423\n",
      "Epoch: 2500, Training acc: 0.48188740869871416, Validation acc: 0.4477086756613422\n",
      "Epoch: 3000, Training acc: 0.4802043560626389, Validation acc: 0.4486767797828377\n",
      "Epoch: 3500, Training acc: 0.4387709684536052, Validation acc: 0.4541719975634626\n",
      "Epoch: 4000, Training acc: 0.4446749012693826, Validation acc: 0.4359864370482033\n",
      "Epoch: 4500, Training acc: 0.45062220380523554, Validation acc: 0.4573078692903586\n",
      "Epoch: 5000, Training acc: 0.4806932600455188, Validation acc: 0.4507179533561617\n",
      "Epoch: 5500, Training acc: 0.5009117114591, Validation acc: 0.45841602486002975\n",
      "Epoch: 6000, Training acc: 0.47999261300829965, Validation acc: 0.4549360809061773\n",
      "Epoch: 6500, Training acc: 0.4667358190935256, Validation acc: 0.425019306116621\n",
      "Epoch: 7000, Training acc: 0.4785863482550222, Validation acc: 0.46195774979800286\n",
      "Epoch: 7500, Training acc: 0.45017511200085947, Validation acc: 0.4500941905462629\n",
      "Epoch: 8000, Training acc: 0.4758358358778134, Validation acc: 0.4593552637623941\n",
      "Epoch: 8500, Training acc: 0.46405847853138993, Validation acc: 0.4288355086156549\n",
      "Epoch: 9000, Training acc: 0.424586213583239, Validation acc: 0.4221654764516527\n",
      "Epoch: 9500, Training acc: 0.46124942896205134, Validation acc: 0.4598363796358287\n",
      "Epoch: 10000, Training acc: 0.5112919545500523, Validation acc: 0.46681219922490824\n",
      "Epoch: 10500, Training acc: 0.4978129146287258, Validation acc: 0.47145876694743594\n",
      "Epoch: 11000, Training acc: 0.5094843609492596, Validation acc: 0.47015153362707873\n",
      "Epoch: 11500, Training acc: 0.49349095955176614, Validation acc: 0.4702173354504082\n",
      "Epoch: 12000, Training acc: 0.489306110967492, Validation acc: 0.4741166072677455\n",
      "Epoch: 12500, Training acc: 0.4820188697550545, Validation acc: 0.4601469661350325\n",
      "Epoch: 13000, Training acc: 0.4879504345876263, Validation acc: 0.4676900799772348\n",
      "Epoch: 13500, Training acc: 0.49323777902310106, Validation acc: 0.4769119141773124\n",
      "Epoch: 14000, Training acc: 0.48359422880735115, Validation acc: 0.47687890374108743\n",
      "Epoch: 14500, Training acc: 0.44505069593936064, Validation acc: 0.469980916215865\n",
      "Epoch: 15000, Training acc: 0.4652379176754632, Validation acc: 0.47156491790037125\n",
      "Epoch: 15500, Training acc: 0.49588652800048505, Validation acc: 0.4771578395318826\n",
      "Epoch: 16000, Training acc: 0.48717075277496635, Validation acc: 0.47514311912172147\n",
      "Epoch: 16500, Training acc: 0.4859481146912905, Validation acc: 0.4706412928633803\n",
      "Epoch: 17000, Training acc: 0.48695437464593794, Validation acc: 0.4820804246666226\n",
      "Epoch: 17500, Training acc: 0.5041727063389547, Validation acc: 0.48783242924332815\n",
      "Epoch: 18000, Training acc: 0.4927581411554972, Validation acc: 0.4679915245959714\n",
      "Epoch: 18500, Training acc: 0.4821398757478683, Validation acc: 0.4754168691358621\n",
      "Epoch: 19000, Training acc: 0.5184106014444856, Validation acc: 0.48505868369500316\n",
      "Epoch: 19500, Training acc: 0.49869175401240096, Validation acc: 0.48327113850739734\n"
     ]
    }
   ],
   "source": [
    "learning_curve = {'training':[], 'validation': []}\n",
    "\n",
    "now = datetime.datetime.utcnow().strftime('%Y%m%d%H%M%S')\n",
    "root_logdir = 'tf_logs'\n",
    "logdir = '{}/run-{}/'.format(root_logdir, now)\n",
    "\n",
    "n_epochs = 20000\n",
    "batch_size = 2000\n",
    "\n",
    "train_X, val_X, train_Y, val_Y = train_test_split(input_X, input_Y, test_size=0.2, random_state=777)\n",
    "\n",
    "m = len(train_X)\n",
    "n_batches = int(np.ceil(m/batch_size))\n",
    "\n",
    "n_inputs = 2\n",
    "n_hidden1 = 300\n",
    "n_hidden2 = 250\n",
    "n_hidden3 = 200\n",
    "n_hidden4 = 150\n",
    "n_hidden5 = 100\n",
    "n_hidden6 = 50\n",
    "n_outputs = 1\n",
    "\n",
    "X = tf.placeholder(shape=(None, n_inputs), dtype=tf.float64, name='X')\n",
    "Y = tf.placeholder(shape=(None, n_outputs), dtype=tf.float64, name='Y')\n",
    "\n",
    "with tf.name_scope('dnn'):\n",
    "    hidden1 = tf.layers.dense(inputs=X, units=n_hidden1, name='hidden1', activation=tf.nn.elu)\n",
    "    hidden2 = tf.layers.dense(inputs=hidden1, units=n_hidden2, name='hidden2', activation=tf.nn.elu)\n",
    "    hidden3 = tf.layers.dense(inputs=hidden2, units=n_hidden3, name='hidden3', activation=tf.nn.elu)\n",
    "    hidden4 = tf.layers.dense(inputs=hidden3, units=n_hidden4, name='hidden4', activation=tf.nn.elu)\n",
    "    hidden5 = tf.layers.dense(inputs=hidden4, units=n_hidden5, name='hidden5', activation=tf.nn.elu)\n",
    "    hidden6 = tf.layers.dense(inputs=hidden5, units=n_hidden6, name='hidden6', activation=tf.nn.elu)\n",
    "    Y_pred = tf.layers.dense(inputs=hidden5, units=n_outputs, name='outputs')\n",
    "\n",
    "with tf.name_scope(name='loss'):\n",
    "    error =tf.subtract(Y, Y_pred, name='error')\n",
    "    sq_error = tf.square(error, name='sq_error')\n",
    "    mse = tf.reduce_mean(sq_error, name='mse') # possible to add regularization l1, l2\n",
    "#     mse = tf.multiply(sse, 1/m)\n",
    "\n",
    "with tf.name_scope(name='r2'):\n",
    "    Y_mean = tf.reduce_mean(Y, name='Y_mean')\n",
    "    sst = tf.reduce_sum(tf.square(Y - Y_mean))\n",
    "    sse = tf.reduce_sum(sq_error, name='sse')\n",
    "    r_sq = 1 - (sse/sst)\n",
    "\n",
    "with tf.name_scope(name='summary'):\n",
    "    mse_summary = tf.summary.scalar(name='MSE', tensor=mse)\n",
    "    file_writer = tf.summary.FileWriter(logdir, tf.get_default_graph())\n",
    "\n",
    "learning_rate = 0.01\n",
    "with tf.name_scope(name='train'):\n",
    "    optimizer = tf.train.MomentumOptimizer(learning_rate=learning_rate, momentum=0.9, use_nesterov=True)\n",
    "    training_op = optimizer.minimize(mse)\n",
    "\n",
    "init = tf.global_variables_initializer()\n",
    "saver = tf.train.Saver(max_to_keep=40)\n",
    "\n",
    "with tf.Session() as sess:\n",
    "    sess.run(init)\n",
    "    train_batches_X, train_batches_Y = np.array_split(train_X, n_batches), np.array_split(train_Y, n_batches)\n",
    "    for epoch in range(n_epochs):\n",
    "        for iteration, train_batch_X, train_batch_Y in zip(range(n_batches), train_batches_X, train_batches_Y):\n",
    "            rnd_idx = np.random.choice(m, size = batch_size, replace=False)\n",
    "            train_batch_X, train_batch_Y = train_X[rnd_idx,], train_Y[rnd_idx,]\n",
    "            sess.run(training_op, feed_dict={X: train_batch_X, Y: train_batch_Y})\n",
    "            if iteration % 10 ==0:\n",
    "                learning_curve['training'].append(mse.eval(feed_dict={X: train_batch_X, Y: train_batch_Y}))\n",
    "                learning_curve['validation'].append(mse.eval(feed_dict={X: val_X, Y: val_Y}))\n",
    "        if epoch % 500 == 0:\n",
    "            train_r_sq = r_sq.eval(feed_dict={X: train_batch_X, Y: train_batch_Y})\n",
    "            val_r_sq = r_sq.eval(feed_dict={X: val_X, Y: val_Y})\n",
    "            print('Epoch: {0}, Training acc: {1}, Validation acc: {2}'.format(epoch, train_r_sq, val_r_sq))\n",
    "            saver_path = saver.save(sess=sess, save_path='./model/tf/model_epoch_{0}.ckpt'.format(epoch))\n",
    "    saver_path = saver.save(sess=sess, save_path='./model/tf/model_epoch_{0}.ckpt'.format(epoch))"
   ]
  },
  {
   "cell_type": "code",
   "execution_count": 56,
   "metadata": {
    "collapsed": true
   },
   "outputs": [],
   "source": [
    "tf.reset_default_graph()"
   ]
  },
  {
   "cell_type": "code",
   "execution_count": 54,
   "metadata": {
    "collapsed": true
   },
   "outputs": [],
   "source": [
    "a = learning_curve.copy()"
   ]
  },
  {
   "cell_type": "code",
   "execution_count": 48,
   "metadata": {
    "collapsed": true
   },
   "outputs": [],
   "source": [
    "import matplotlib.pyplot as plt"
   ]
  },
  {
   "cell_type": "code",
   "execution_count": 55,
   "metadata": {},
   "outputs": [
    {
     "data": {
      "image/png": "[encoded data removed]",
      "text/plain": [
       "<Figure size 1440x720 with 1 Axes>"
      ]
     },
     "metadata": {},
     "output_type": "display_data"
    }
   ],
   "source": [
    "fig = plt.gcf()\n",
    "fig.set_size_inches((20,10))\n",
    "plt.plot(range(len(a['training'])), a['training'])\n",
    "plt.plot(range(len(a['validation'])), a['validation'])\n",
    "plt.show()"
   ]
  },
  {
   "cell_type": "code",
   "execution_count": null,
   "metadata": {
    "collapsed": true
   },
   "outputs": [],
   "source": []
  }
 ],
 "metadata": {
  "kernelspec": {
   "display_name": "Python [default]",
   "language": "python",
   "name": "python3"
  },
  "language_info": {
   "codemirror_mode": {
    "name": "ipython",
    "version": 3
   },
   "file_extension": ".py",
   "mimetype": "text/x-python",
   "name": "python",
   "nbconvert_exporter": "python",
   "pygments_lexer": "ipython3",
   "version": "3.6.3"
  }
 },
 "nbformat": 4,
 "nbformat_minor": 2
}
