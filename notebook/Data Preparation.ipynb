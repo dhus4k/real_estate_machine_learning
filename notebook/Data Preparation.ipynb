{
 "cells": [
  {
   "cell_type": "markdown",
   "metadata": {},
   "source": [
    "# Machine Learning Project Checklist"
   ]
  },
  {
   "cell_type": "markdown",
   "metadata": {},
   "source": [
    "1. Frame the problem and look at the big picture.\n",
    "\n",
    "2. **Get the data.**\n",
    "\n",
    "3. Explore the data to gain insights.\n",
    "\n",
    "4. Explore many different models and short-list the best ones.\n",
    "\n",
    "5. Fine-tune your models and combine them into a great solution.\n",
    "\n",
    "6. Present your solution."
   ]
  },
  {
   "cell_type": "markdown",
   "metadata": {},
   "source": [
    "## 2. Get the data"
   ]
  },
  {
   "cell_type": "code",
   "execution_count": 1,
   "metadata": {
    "collapsed": true
   },
   "outputs": [],
   "source": [
    "import os"
   ]
  },
  {
   "cell_type": "code",
   "execution_count": 2,
   "metadata": {
    "collapsed": true
   },
   "outputs": [],
   "source": [
    "REPO_DIR = os.path.join(os.environ['USERPROFILE'], 'repos')\n",
    "PROJ_DIR = os.path.join(REPO_DIR, 'real_estate_machine_learning')\n",
    "QUERIES_DIR = os.path.join(PROJ_DIR, 'src', 'osm')\n",
    "os.chdir(PROJ_DIR)"
   ]
  },
  {
   "cell_type": "code",
   "execution_count": 3,
   "metadata": {
    "collapsed": true
   },
   "outputs": [],
   "source": [
    "SRC_DIR = './src'\n",
    "DATA_DIR = './data'\n",
    "RAW_DIR = os.path.join(DATA_DIR, 'raw')\n",
    "EXT_DIR = os.path.join(DATA_DIR, 'ext')\n",
    "IMG_DIR = './img'\n",
    "INPUT_DIR = '../real_estate_hungary/output'\n",
    "FILENAME = 'ForSaleRent_20181101.csv'\n",
    "INPUT_FILEPATH=os.path.join(INPUT_DIR, FILENAME)"
   ]
  },
  {
   "cell_type": "code",
   "execution_count": 4,
   "metadata": {
    "collapsed": true
   },
   "outputs": [],
   "source": [
    "from urllib.request import HTTPDefaultErrorHandler, HTTPError, URLError\n",
    "from http.client import RemoteDisconnected"
   ]
  },
  {
   "cell_type": "code",
   "execution_count": 5,
   "metadata": {
    "collapsed": true
   },
   "outputs": [],
   "source": [
    "import pandas as pd, numpy as np\n",
    "import src.preparation as prep\n",
    "import src.processing as proc\n",
    "from src.utils import *"
   ]
  },
  {
   "cell_type": "markdown",
   "metadata": {},
   "source": [
    "## Scraped data\n",
    "I have written a Python script, based on this module [real_estate_hungary](https://github.com/tszereny/real_estate_hungary, \"tszereny's GitHub page\"), which extracts pieces of information from one of the most popular Hungarian [real estate website](https://ingatlan.com/, \"https://ingatlan.com\"). In short it turns the data on the website into tabular form.  \n",
    "The scraped dataset contains more than 50,000 records of real estate properties in Budapest, the capital city of Hungary."
   ]
  },
  {
   "cell_type": "code",
   "execution_count": 6,
   "metadata": {
    "collapsed": true
   },
   "outputs": [],
   "source": [
    "na_hun_equivalent='nincs megadva'"
   ]
  },
  {
   "cell_type": "code",
   "execution_count": 7,
   "metadata": {
    "collapsed": true
   },
   "outputs": [],
   "source": [
    "raw=pd.read_csv(INPUT_FILEPATH, encoding='utf8', na_values=na_hun_equivalent)"
   ]
  },
  {
   "cell_type": "markdown",
   "metadata": {},
   "source": [
    "Translate column names from Hungarian to English"
   ]
  },
  {
   "cell_type": "code",
   "execution_count": 8,
   "metadata": {
    "collapsed": true
   },
   "outputs": [],
   "source": [
    "raw=proc.transform_naming(raw)"
   ]
  },
  {
   "cell_type": "code",
   "execution_count": 9,
   "metadata": {},
   "outputs": [
    {
     "data": {
      "text/html": [
       "<div>\n",
       "<style>\n",
       "    .dataframe thead tr:only-child th {\n",
       "        text-align: right;\n",
       "    }\n",
       "\n",
       "    .dataframe thead th {\n",
       "        text-align: left;\n",
       "    }\n",
       "\n",
       "    .dataframe tbody tr th {\n",
       "        vertical-align: top;\n",
       "    }\n",
       "</style>\n",
       "<table border=\"1\" class=\"dataframe\">\n",
       "  <thead>\n",
       "    <tr style=\"text-align: right;\">\n",
       "      <th></th>\n",
       "      <th>address</th>\n",
       "      <th>accessibility</th>\n",
       "      <th>batch_num</th>\n",
       "      <th>ceiling_height</th>\n",
       "      <th>buses</th>\n",
       "      <th>buses_count</th>\n",
       "      <th>furnished</th>\n",
       "      <th>cluster_id</th>\n",
       "      <th>property_id</th>\n",
       "      <th>desc</th>\n",
       "      <th>...</th>\n",
       "      <th>trolley_buses_count</th>\n",
       "      <th>listing_type</th>\n",
       "      <th>orientation</th>\n",
       "      <th>trams</th>\n",
       "      <th>trams_count</th>\n",
       "      <th>is_ad_active</th>\n",
       "      <th>all_night_services</th>\n",
       "      <th>all_night_services_count</th>\n",
       "      <th>year_built</th>\n",
       "      <th>building_floors</th>\n",
       "    </tr>\n",
       "  </thead>\n",
       "  <tbody>\n",
       "    <tr>\n",
       "      <th>0</th>\n",
       "      <td>Budai Bolero II</td>\n",
       "      <td>igen</td>\n",
       "      <td>0</td>\n",
       "      <td>NaN</td>\n",
       "      <td>103|133E|33</td>\n",
       "      <td>3.0</td>\n",
       "      <td>NaN</td>\n",
       "      <td>c_3362683</td>\n",
       "      <td>26313868</td>\n",
       "      <td>| Exkluzív otthon az Ön igényeire szabva! A Bu...</td>\n",
       "      <td>...</td>\n",
       "      <td>NaN</td>\n",
       "      <td>for-sale</td>\n",
       "      <td>nyugat</td>\n",
       "      <td>1</td>\n",
       "      <td>1.0</td>\n",
       "      <td>Y</td>\n",
       "      <td>NaN</td>\n",
       "      <td>NaN</td>\n",
       "      <td>2019</td>\n",
       "      <td>10</td>\n",
       "    </tr>\n",
       "    <tr>\n",
       "      <th>1</th>\n",
       "      <td>Csata utca 30.</td>\n",
       "      <td>NaN</td>\n",
       "      <td>0</td>\n",
       "      <td>3 m-nél alacsonyabb</td>\n",
       "      <td>14|32|105</td>\n",
       "      <td>3.0</td>\n",
       "      <td>NaN</td>\n",
       "      <td>c_2374563</td>\n",
       "      <td>24714938</td>\n",
       "      <td>| XIII  kerület közkedvelt részén  az Árpád-hí...</td>\n",
       "      <td>...</td>\n",
       "      <td>NaN</td>\n",
       "      <td>for-sale</td>\n",
       "      <td>északnyugat</td>\n",
       "      <td>1|14</td>\n",
       "      <td>2.0</td>\n",
       "      <td>Y</td>\n",
       "      <td>914|914A</td>\n",
       "      <td>2.0</td>\n",
       "      <td>NaN</td>\n",
       "      <td>5</td>\n",
       "    </tr>\n",
       "    <tr>\n",
       "      <th>2</th>\n",
       "      <td>Csata utca 30.</td>\n",
       "      <td>NaN</td>\n",
       "      <td>0</td>\n",
       "      <td>3 m-nél alacsonyabb</td>\n",
       "      <td>14|32|105</td>\n",
       "      <td>3.0</td>\n",
       "      <td>NaN</td>\n",
       "      <td>c_2959407</td>\n",
       "      <td>25561892</td>\n",
       "      <td>| XIII  kerület közkedvelt részén  az Árpád-hí...</td>\n",
       "      <td>...</td>\n",
       "      <td>NaN</td>\n",
       "      <td>for-sale</td>\n",
       "      <td>délnyugat</td>\n",
       "      <td>1|14</td>\n",
       "      <td>2.0</td>\n",
       "      <td>Y</td>\n",
       "      <td>914|914A</td>\n",
       "      <td>2.0</td>\n",
       "      <td>2018</td>\n",
       "      <td>5</td>\n",
       "    </tr>\n",
       "    <tr>\n",
       "      <th>3</th>\n",
       "      <td>Csata utca 30.</td>\n",
       "      <td>NaN</td>\n",
       "      <td>0</td>\n",
       "      <td>3 m-nél alacsonyabb</td>\n",
       "      <td>14|32|105</td>\n",
       "      <td>3.0</td>\n",
       "      <td>NaN</td>\n",
       "      <td>c_4236203</td>\n",
       "      <td>27741740</td>\n",
       "      <td>| XIII  kerület közkedvelt részén  az Árpád-hí...</td>\n",
       "      <td>...</td>\n",
       "      <td>NaN</td>\n",
       "      <td>for-sale</td>\n",
       "      <td>északnyugat</td>\n",
       "      <td>1|14</td>\n",
       "      <td>2.0</td>\n",
       "      <td>Y</td>\n",
       "      <td>914|914A</td>\n",
       "      <td>2.0</td>\n",
       "      <td>2018</td>\n",
       "      <td>5</td>\n",
       "    </tr>\n",
       "    <tr>\n",
       "      <th>4</th>\n",
       "      <td>Csata utca 30.</td>\n",
       "      <td>NaN</td>\n",
       "      <td>0</td>\n",
       "      <td>3 m-nél alacsonyabb</td>\n",
       "      <td>14|32|105</td>\n",
       "      <td>3.0</td>\n",
       "      <td>NaN</td>\n",
       "      <td>c_3801583</td>\n",
       "      <td>26996343</td>\n",
       "      <td>| XIII  kerület közkedvelt részén  az Árpád-hí...</td>\n",
       "      <td>...</td>\n",
       "      <td>NaN</td>\n",
       "      <td>for-sale</td>\n",
       "      <td>északkelet</td>\n",
       "      <td>1|14</td>\n",
       "      <td>2.0</td>\n",
       "      <td>Y</td>\n",
       "      <td>914|914A</td>\n",
       "      <td>2.0</td>\n",
       "      <td>2018</td>\n",
       "      <td>5</td>\n",
       "    </tr>\n",
       "  </tbody>\n",
       "</table>\n",
       "<p>5 rows × 60 columns</p>\n",
       "</div>"
      ],
      "text/plain": [
       "           address accessibility  batch_num       ceiling_height        buses  \\\n",
       "0  Budai Bolero II          igen          0                  NaN  103|133E|33   \n",
       "1   Csata utca 30.           NaN          0  3 m-nél alacsonyabb    14|32|105   \n",
       "2   Csata utca 30.           NaN          0  3 m-nél alacsonyabb    14|32|105   \n",
       "3   Csata utca 30.           NaN          0  3 m-nél alacsonyabb    14|32|105   \n",
       "4   Csata utca 30.           NaN          0  3 m-nél alacsonyabb    14|32|105   \n",
       "\n",
       "   buses_count furnished cluster_id  property_id  \\\n",
       "0          3.0       NaN  c_3362683     26313868   \n",
       "1          3.0       NaN  c_2374563     24714938   \n",
       "2          3.0       NaN  c_2959407     25561892   \n",
       "3          3.0       NaN  c_4236203     27741740   \n",
       "4          3.0       NaN  c_3801583     26996343   \n",
       "\n",
       "                                                desc       ...         \\\n",
       "0  | Exkluzív otthon az Ön igényeire szabva! A Bu...       ...          \n",
       "1  | XIII  kerület közkedvelt részén  az Árpád-hí...       ...          \n",
       "2  | XIII  kerület közkedvelt részén  az Árpád-hí...       ...          \n",
       "3  | XIII  kerület közkedvelt részén  az Árpád-hí...       ...          \n",
       "4  | XIII  kerület közkedvelt részén  az Árpád-hí...       ...          \n",
       "\n",
       "   trolley_buses_count listing_type  orientation trams trams_count  \\\n",
       "0                  NaN     for-sale       nyugat     1         1.0   \n",
       "1                  NaN     for-sale  északnyugat  1|14         2.0   \n",
       "2                  NaN     for-sale    délnyugat  1|14         2.0   \n",
       "3                  NaN     for-sale  északnyugat  1|14         2.0   \n",
       "4                  NaN     for-sale   északkelet  1|14         2.0   \n",
       "\n",
       "  is_ad_active all_night_services all_night_services_count year_built  \\\n",
       "0            Y                NaN                      NaN       2019   \n",
       "1            Y           914|914A                      2.0        NaN   \n",
       "2            Y           914|914A                      2.0       2018   \n",
       "3            Y           914|914A                      2.0       2018   \n",
       "4            Y           914|914A                      2.0       2018   \n",
       "\n",
       "   building_floors  \n",
       "0               10  \n",
       "1                5  \n",
       "2                5  \n",
       "3                5  \n",
       "4                5  \n",
       "\n",
       "[5 rows x 60 columns]"
      ]
     },
     "execution_count": 9,
     "metadata": {},
     "output_type": "execute_result"
    }
   ],
   "source": [
    "raw.head()"
   ]
  },
  {
   "cell_type": "markdown",
   "metadata": {},
   "source": [
    "### Available columns"
   ]
  },
  {
   "cell_type": "code",
   "execution_count": 9,
   "metadata": {},
   "outputs": [
    {
     "name": "stdout",
     "output_type": "stream",
     "text": [
      "<class 'pandas.core.frame.DataFrame'>\n",
      "RangeIndex: 55146 entries, 0 to 55145\n",
      "Data columns (total 60 columns):\n",
      "address                     55120 non-null object\n",
      "accessibility               14456 non-null object\n",
      "batch_num                   55146 non-null int64\n",
      "ceiling_height              37722 non-null object\n",
      "buses                       36823 non-null object\n",
      "buses_count                 36823 non-null float64\n",
      "furnished                   8593 non-null object\n",
      "cluster_id                  55146 non-null object\n",
      "property_id                 55146 non-null int64\n",
      "desc                        54531 non-null object\n",
      "city_district               55146 non-null int64\n",
      "smoking                     4822 non-null object\n",
      "floors                      50258 non-null object\n",
      "energy_perf_cert            2809 non-null object\n",
      "balcony                     23573 non-null object\n",
      "bath_and_wc                 29760 non-null object\n",
      "type_of_heating             49418 non-null object\n",
      "equipped                    7926 non-null object\n",
      "boats                       1971 non-null object\n",
      "boats_count                 1971 non-null float64\n",
      "local_railways              1212 non-null object\n",
      "local_railways_count        1212 non-null float64\n",
      "condition_of_real_estate    48908 non-null object\n",
      "with_entry_to_garden        17821 non-null object\n",
      "view                        42211 non-null object\n",
      "pets                        5188 non-null object\n",
      "convenience_level           32304 non-null object\n",
      "vacant                      6534 non-null object\n",
      "residental_park_name        1384 non-null object\n",
      "lat                         55146 non-null float64\n",
      "lift                        45574 non-null object\n",
      "property_url                55146 non-null object\n",
      "timestamp                   55146 non-null object\n",
      "lng                         55146 non-null float64\n",
      "air_conditioned             17548 non-null object\n",
      "max_listing                 55146 non-null int64\n",
      "max_page                    55146 non-null int64\n",
      "metro_lines                 15047 non-null object\n",
      "metro_lines_count           15047 non-null float64\n",
      "min_tenancy                 7609 non-null object\n",
      "page_num                    55146 non-null int64\n",
      "panelprogram                1819 non-null object\n",
      "parking                     26437 non-null object\n",
      "parking_lot_price_in_huf    4621 non-null object\n",
      "price_in_huf                55146 non-null object\n",
      "area_size                   55146 non-null object\n",
      "utilities                   11466 non-null object\n",
      "room                        55146 non-null object\n",
      "attic                       32895 non-null object\n",
      "trolley_buses               17251 non-null object\n",
      "trolley_buses_count         17251 non-null float64\n",
      "listing_type                55146 non-null object\n",
      "orientation                 34536 non-null object\n",
      "trams                       22696 non-null object\n",
      "trams_count                 22696 non-null float64\n",
      "is_ad_active                55146 non-null object\n",
      "all_night_services          33757 non-null object\n",
      "all_night_services_count    33757 non-null float64\n",
      "year_built                  22339 non-null object\n",
      "building_floors             31497 non-null object\n",
      "dtypes: float64(9), int64(6), object(45)\n",
      "memory usage: 25.2+ MB\n"
     ]
    }
   ],
   "source": [
    "raw.info()"
   ]
  },
  {
   "cell_type": "markdown",
   "metadata": {},
   "source": [
    "## OpenStreetMap\n",
    "Locating different attributes of Budapest, such as:\n",
    "- Boundaries of Budapest and its sub-districts\n",
    "- Uninhabited areas\n",
    "- Agglomeration of Budapest  \n",
    "Utilizing [overpy](https://github.com/DinoTools/python-overpy, \"overpy's GitHub page\") a Python wrapper to query geographical data from [OpenStreetMap](https://www.openstreetmap.org, \"OpenStreetMap's homepage\")."
   ]
  },
  {
   "cell_type": "markdown",
   "metadata": {},
   "source": [
    "Boundaries of Budapest and its sub-districts:"
   ]
  },
  {
   "cell_type": "code",
   "execution_count": 10,
   "metadata": {},
   "outputs": [
    {
     "data": {
      "text/html": [
       "<div>\n",
       "<style>\n",
       "    .dataframe thead tr:only-child th {\n",
       "        text-align: right;\n",
       "    }\n",
       "\n",
       "    .dataframe thead th {\n",
       "        text-align: left;\n",
       "    }\n",
       "\n",
       "    .dataframe tbody tr th {\n",
       "        vertical-align: top;\n",
       "    }\n",
       "</style>\n",
       "<table border=\"1\" class=\"dataframe\">\n",
       "  <thead>\n",
       "    <tr style=\"text-align: right;\">\n",
       "      <th></th>\n",
       "      <th>id</th>\n",
       "      <th>lat</th>\n",
       "      <th>lon</th>\n",
       "      <th>name</th>\n",
       "      <th>postal_code</th>\n",
       "    </tr>\n",
       "  </thead>\n",
       "  <tbody>\n",
       "    <tr>\n",
       "      <th>0</th>\n",
       "      <td>2366619156</td>\n",
       "      <td>47.6006244</td>\n",
       "      <td>19.1140788</td>\n",
       "      <td>1044 Budapest IV. kerület</td>\n",
       "      <td>1044</td>\n",
       "    </tr>\n",
       "    <tr>\n",
       "      <th>1</th>\n",
       "      <td>1768916389</td>\n",
       "      <td>47.6005581</td>\n",
       "      <td>19.1140093</td>\n",
       "      <td>1044 Budapest IV. kerület</td>\n",
       "      <td>1044</td>\n",
       "    </tr>\n",
       "    <tr>\n",
       "      <th>2</th>\n",
       "      <td>1768916389</td>\n",
       "      <td>47.6005581</td>\n",
       "      <td>19.1140093</td>\n",
       "      <td>1044 Budapest IV. kerület</td>\n",
       "      <td>1044</td>\n",
       "    </tr>\n",
       "    <tr>\n",
       "      <th>3</th>\n",
       "      <td>5777156960</td>\n",
       "      <td>47.6004505</td>\n",
       "      <td>19.1138815</td>\n",
       "      <td>1044 Budapest IV. kerület</td>\n",
       "      <td>1044</td>\n",
       "    </tr>\n",
       "    <tr>\n",
       "      <th>4</th>\n",
       "      <td>3841617455</td>\n",
       "      <td>47.5999220</td>\n",
       "      <td>19.1131844</td>\n",
       "      <td>1044 Budapest IV. kerület</td>\n",
       "      <td>1044</td>\n",
       "    </tr>\n",
       "  </tbody>\n",
       "</table>\n",
       "</div>"
      ],
      "text/plain": [
       "           id         lat         lon                       name postal_code\n",
       "0  2366619156  47.6006244  19.1140788  1044 Budapest IV. kerület        1044\n",
       "1  1768916389  47.6005581  19.1140093  1044 Budapest IV. kerület        1044\n",
       "2  1768916389  47.6005581  19.1140093  1044 Budapest IV. kerület        1044\n",
       "3  5777156960  47.6004505  19.1138815  1044 Budapest IV. kerület        1044\n",
       "4  3841617455  47.5999220  19.1131844  1044 Budapest IV. kerület        1044"
      ]
     },
     "execution_count": 10,
     "metadata": {},
     "output_type": "execute_result"
    }
   ],
   "source": [
    "bound_q = read_txt(os.path.join(QUERIES_DIR, 'boundaries_osm_query.txt'))\n",
    "bound_osm = prep.OSM(query=bound_q)\n",
    "bound = bound_osm.to_df(node_attrs=['id', 'lat', 'lon'], add_tags=['name', 'postal_code'])\n",
    "bound.head()"
   ]
  },
  {
   "cell_type": "markdown",
   "metadata": {},
   "source": [
    "Save the result in comma separated flat file"
   ]
  },
  {
   "cell_type": "code",
   "execution_count": 36,
   "metadata": {
    "collapsed": true
   },
   "outputs": [],
   "source": [
    "bound.to_csv(os.path.join(EXT_DIR, 'boundaries.csv'), encoding='utf8', index=False)"
   ]
  },
  {
   "cell_type": "markdown",
   "metadata": {},
   "source": [
    "Uninhabited areas e.g.:\n",
    "- Danube\n",
    "- Islands\n",
    "- etc."
   ]
  },
  {
   "cell_type": "code",
   "execution_count": 46,
   "metadata": {},
   "outputs": [
    {
     "data": {
      "text/html": [
       "<div>\n",
       "<style>\n",
       "    .dataframe thead tr:only-child th {\n",
       "        text-align: right;\n",
       "    }\n",
       "\n",
       "    .dataframe thead th {\n",
       "        text-align: left;\n",
       "    }\n",
       "\n",
       "    .dataframe tbody tr th {\n",
       "        vertical-align: top;\n",
       "    }\n",
       "</style>\n",
       "<table border=\"1\" class=\"dataframe\">\n",
       "  <thead>\n",
       "    <tr style=\"text-align: right;\">\n",
       "      <th></th>\n",
       "      <th>id</th>\n",
       "      <th>lat</th>\n",
       "      <th>lon</th>\n",
       "    </tr>\n",
       "  </thead>\n",
       "  <tbody>\n",
       "    <tr>\n",
       "      <th>0</th>\n",
       "      <td>35966076</td>\n",
       "      <td>47.3903119</td>\n",
       "      <td>19.0089999</td>\n",
       "    </tr>\n",
       "    <tr>\n",
       "      <th>1</th>\n",
       "      <td>35966077</td>\n",
       "      <td>47.3904866</td>\n",
       "      <td>19.0086880</td>\n",
       "    </tr>\n",
       "    <tr>\n",
       "      <th>2</th>\n",
       "      <td>35966078</td>\n",
       "      <td>47.3907746</td>\n",
       "      <td>19.0082894</td>\n",
       "    </tr>\n",
       "    <tr>\n",
       "      <th>3</th>\n",
       "      <td>1540019894</td>\n",
       "      <td>47.3909018</td>\n",
       "      <td>19.0080858</td>\n",
       "    </tr>\n",
       "    <tr>\n",
       "      <th>4</th>\n",
       "      <td>35966079</td>\n",
       "      <td>47.3910512</td>\n",
       "      <td>19.0075134</td>\n",
       "    </tr>\n",
       "  </tbody>\n",
       "</table>\n",
       "</div>"
      ],
      "text/plain": [
       "           id         lat         lon\n",
       "0    35966076  47.3903119  19.0089999\n",
       "1    35966077  47.3904866  19.0086880\n",
       "2    35966078  47.3907746  19.0082894\n",
       "3  1540019894  47.3909018  19.0080858\n",
       "4    35966079  47.3910512  19.0075134"
      ]
     },
     "execution_count": 46,
     "metadata": {},
     "output_type": "execute_result"
    }
   ],
   "source": [
    "uninhab_q = read_txt(os.path.join(QUERIES_DIR, 'uninhabited_osm_query.txt'))\n",
    "uninhab_osm = prep.OSM(query=uninhab_q)\n",
    "uninhab = uninhab_osm.to_df(node_attrs=['id', 'lat', 'lon'])\n",
    "uninhab.head()"
   ]
  },
  {
   "cell_type": "markdown",
   "metadata": {},
   "source": [
    "Save the result in comma separated flat file"
   ]
  },
  {
   "cell_type": "code",
   "execution_count": 47,
   "metadata": {
    "collapsed": true
   },
   "outputs": [],
   "source": [
    "uninhab.to_csv(os.path.join(EXT_DIR, 'uninhabited.csv'), encoding=\"utf8\", index=False)"
   ]
  },
  {
   "cell_type": "markdown",
   "metadata": {},
   "source": [
    "Boundaries of the agglomeration of Budapest:"
   ]
  },
  {
   "cell_type": "code",
   "execution_count": 11,
   "metadata": {},
   "outputs": [
    {
     "data": {
      "text/html": [
       "<div>\n",
       "<style>\n",
       "    .dataframe thead tr:only-child th {\n",
       "        text-align: right;\n",
       "    }\n",
       "\n",
       "    .dataframe thead th {\n",
       "        text-align: left;\n",
       "    }\n",
       "\n",
       "    .dataframe tbody tr th {\n",
       "        vertical-align: top;\n",
       "    }\n",
       "</style>\n",
       "<table border=\"1\" class=\"dataframe\">\n",
       "  <thead>\n",
       "    <tr style=\"text-align: right;\">\n",
       "      <th></th>\n",
       "      <th>id</th>\n",
       "      <th>lat</th>\n",
       "      <th>lon</th>\n",
       "      <th>name</th>\n",
       "    </tr>\n",
       "  </thead>\n",
       "  <tbody>\n",
       "    <tr>\n",
       "      <th>0</th>\n",
       "      <td>303616978</td>\n",
       "      <td>47.3054043</td>\n",
       "      <td>18.8583169</td>\n",
       "      <td>Százhalombatta</td>\n",
       "    </tr>\n",
       "    <tr>\n",
       "      <th>1</th>\n",
       "      <td>373873292</td>\n",
       "      <td>47.3046396</td>\n",
       "      <td>18.8604005</td>\n",
       "      <td>Százhalombatta</td>\n",
       "    </tr>\n",
       "    <tr>\n",
       "      <th>2</th>\n",
       "      <td>373873296</td>\n",
       "      <td>47.3060417</td>\n",
       "      <td>18.8646632</td>\n",
       "      <td>Százhalombatta</td>\n",
       "    </tr>\n",
       "    <tr>\n",
       "      <th>3</th>\n",
       "      <td>303616988</td>\n",
       "      <td>47.3054631</td>\n",
       "      <td>18.8680175</td>\n",
       "      <td>Százhalombatta</td>\n",
       "    </tr>\n",
       "    <tr>\n",
       "      <th>4</th>\n",
       "      <td>335719239</td>\n",
       "      <td>47.3042648</td>\n",
       "      <td>18.8719475</td>\n",
       "      <td>Százhalombatta</td>\n",
       "    </tr>\n",
       "  </tbody>\n",
       "</table>\n",
       "</div>"
      ],
      "text/plain": [
       "          id         lat         lon            name\n",
       "0  303616978  47.3054043  18.8583169  Százhalombatta\n",
       "1  373873292  47.3046396  18.8604005  Százhalombatta\n",
       "2  373873296  47.3060417  18.8646632  Százhalombatta\n",
       "3  303616988  47.3054631  18.8680175  Százhalombatta\n",
       "4  335719239  47.3042648  18.8719475  Százhalombatta"
      ]
     },
     "execution_count": 11,
     "metadata": {},
     "output_type": "execute_result"
    }
   ],
   "source": [
    "agglom_q = read_txt(os.path.join(QUERIES_DIR, 'agglomeration_osm_query.txt'))\n",
    "agglom_osm = prep.OSM(query=agglom_q)\n",
    "agglom = agglom_osm.to_df(node_attrs=['id', 'lat', 'lon'], add_tags=['name'])\n",
    "agglom.head()"
   ]
  },
  {
   "cell_type": "markdown",
   "metadata": {},
   "source": [
    "Save the result in comma separated flat file"
   ]
  },
  {
   "cell_type": "code",
   "execution_count": 12,
   "metadata": {
    "collapsed": true
   },
   "outputs": [],
   "source": [
    "agglom.to_csv(os.path.join(EXT_DIR, 'agglomeration.csv'), encoding=\"utf8\", index=False)"
   ]
  },
  {
   "cell_type": "markdown",
   "metadata": {},
   "source": [
    "## Elevation\n",
    "GPS coordinates of the properties available are in the scraped data, although elevation of the given coordinate is not published on the real estate website. Luckily some folks put together an [open-elevation API](https://github.com/Jorl17/open-elevation) to gather elevation data.  \n",
    "Usage is a pretty simple, sending a post request with latitude-longitude pairs and receiving the data in JSON."
   ]
  },
  {
   "cell_type": "markdown",
   "metadata": {},
   "source": [
    "To get all the unique GPS coordinates, I am removing duplicated records from raw scraped data: "
   ]
  },
  {
   "cell_type": "code",
   "execution_count": 10,
   "metadata": {},
   "outputs": [
    {
     "name": "stdout",
     "output_type": "stream",
     "text": [
      "Total number of unique GPS coordinates: 7,540\n"
     ]
    }
   ],
   "source": [
    "u_gps = raw[['lat', 'lng']].drop_duplicates().reset_index(drop = True)\n",
    "print('Total number of unique GPS coordinates: {0:,}'.format(len(u_gps)))"
   ]
  },
  {
   "cell_type": "markdown",
   "metadata": {},
   "source": [
    "Retrieving the elevation data from API in smaller batches, sending 100 coordinates at once:"
   ]
  },
  {
   "cell_type": "code",
   "execution_count": null,
   "metadata": {
    "collapsed": true,
    "scrolled": false
   },
   "outputs": [],
   "source": [
    "n_batch = int(np.ceil(len(u_gps)/100))\n",
    "intervals = calc_intervals(n_batch, len(u_gps))\n",
    "gps_elevation = pd.DataFrame()\n",
    "for i, interval in enumerate(intervals):\n",
    "    while True:\n",
    "        batch_gps_elevation = None\n",
    "        try:\n",
    "            elev = prep.Elevation(df=u_gps[interval.start:interval.stop], latitude='lat', longitude='lng')\n",
    "            batch_gps_elevation = elev.retrieve_to_df()\n",
    "            print('{}. success - batch retrieved!'. format(i))\n",
    "        except HTTPError as err:\n",
    "            pass\n",
    "        except URLError as err:\n",
    "            pass\n",
    "        except RemoteDisconnected as err:\n",
    "            pass\n",
    "        if batch_gps_elevation is not None:\n",
    "            break\n",
    "    gps_elevation = pd.concat([gps_elevation, batch_gps_elevation], axis=0)"
   ]
  },
  {
   "cell_type": "code",
   "execution_count": 14,
   "metadata": {},
   "outputs": [
    {
     "data": {
      "text/html": [
       "<div>\n",
       "<style>\n",
       "    .dataframe thead tr:only-child th {\n",
       "        text-align: right;\n",
       "    }\n",
       "\n",
       "    .dataframe thead th {\n",
       "        text-align: left;\n",
       "    }\n",
       "\n",
       "    .dataframe tbody tr th {\n",
       "        vertical-align: top;\n",
       "    }\n",
       "</style>\n",
       "<table border=\"1\" class=\"dataframe\">\n",
       "  <thead>\n",
       "    <tr style=\"text-align: right;\">\n",
       "      <th></th>\n",
       "      <th>elevation</th>\n",
       "      <th>latitude</th>\n",
       "      <th>longitude</th>\n",
       "    </tr>\n",
       "  </thead>\n",
       "  <tbody>\n",
       "    <tr>\n",
       "      <th>0</th>\n",
       "      <td>102</td>\n",
       "      <td>47.460680</td>\n",
       "      <td>19.048690</td>\n",
       "    </tr>\n",
       "    <tr>\n",
       "      <th>1</th>\n",
       "      <td>106</td>\n",
       "      <td>47.529858</td>\n",
       "      <td>19.079060</td>\n",
       "    </tr>\n",
       "    <tr>\n",
       "      <th>2</th>\n",
       "      <td>106</td>\n",
       "      <td>47.529730</td>\n",
       "      <td>19.078869</td>\n",
       "    </tr>\n",
       "    <tr>\n",
       "      <th>3</th>\n",
       "      <td>102</td>\n",
       "      <td>47.538403</td>\n",
       "      <td>19.064398</td>\n",
       "    </tr>\n",
       "    <tr>\n",
       "      <th>4</th>\n",
       "      <td>102</td>\n",
       "      <td>47.546740</td>\n",
       "      <td>19.066140</td>\n",
       "    </tr>\n",
       "  </tbody>\n",
       "</table>\n",
       "</div>"
      ],
      "text/plain": [
       "   elevation   latitude  longitude\n",
       "0        102  47.460680  19.048690\n",
       "1        106  47.529858  19.079060\n",
       "2        106  47.529730  19.078869\n",
       "3        102  47.538403  19.064398\n",
       "4        102  47.546740  19.066140"
      ]
     },
     "execution_count": 14,
     "metadata": {},
     "output_type": "execute_result"
    }
   ],
   "source": [
    "gps_elevation.head()"
   ]
  },
  {
   "cell_type": "markdown",
   "metadata": {},
   "source": [
    "Save the result in comma separated flat file"
   ]
  },
  {
   "cell_type": "code",
   "execution_count": 20,
   "metadata": {
    "collapsed": true
   },
   "outputs": [],
   "source": [
    "gps_elevation.to_csv(os.path.join(EXT_DIR, 'elevation.csv'), encoding=\"utf8\", index=False)"
   ]
  },
  {
   "cell_type": "markdown",
   "metadata": {},
   "source": [
    "## Public domain names\n",
    "Downloading the official public domain names in Hungary, from [goverment portal](https://ceginformaciosszolgalat.kormany.hu/download/b/46/11000/kozterulet_jelleg_2015_09_07.txt).  \n",
    "Such as: street, road, square etc.  \n",
    "It will be used for text analysis of addresses."
   ]
  },
  {
   "cell_type": "code",
   "execution_count": 21,
   "metadata": {
    "collapsed": true
   },
   "outputs": [],
   "source": [
    "public_domains_raw = prep.get_public_domain_names()"
   ]
  },
  {
   "cell_type": "code",
   "execution_count": 22,
   "metadata": {
    "collapsed": true
   },
   "outputs": [],
   "source": [
    "public_domains = [line for line in public_domains_raw.split('\\r\\n') if len(line)>0]"
   ]
  },
  {
   "cell_type": "code",
   "execution_count": 23,
   "metadata": {},
   "outputs": [
    {
     "data": {
      "text/plain": [
       "['hegyhát dűlő', 'hegyhát', 'köz', 'hrsz', 'hrsz.']"
      ]
     },
     "execution_count": 23,
     "metadata": {},
     "output_type": "execute_result"
    }
   ],
   "source": [
    "public_domains[50:55]"
   ]
  },
  {
   "cell_type": "markdown",
   "metadata": {},
   "source": [
    "Save the text file"
   ]
  },
  {
   "cell_type": "code",
   "execution_count": 9,
   "metadata": {
    "collapsed": true
   },
   "outputs": [],
   "source": [
    "save_txt(os.path.join(EXT_DIR, 'public_domains_2015_09_07.txt'), public_domains_raw)"
   ]
  }
 ],
 "metadata": {
  "kernelspec": {
   "display_name": "Python [default]",
   "language": "python",
   "name": "python3"
  },
  "language_info": {
   "codemirror_mode": {
    "name": "ipython",
    "version": 3
   },
   "file_extension": ".py",
   "mimetype": "text/x-python",
   "name": "python",
   "nbconvert_exporter": "python",
   "pygments_lexer": "ipython3",
   "version": "3.6.3"
  }
 },
 "nbformat": 4,
 "nbformat_minor": 2
}
