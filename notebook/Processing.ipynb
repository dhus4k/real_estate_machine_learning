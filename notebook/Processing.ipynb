{
 "cells": [
  {
   "cell_type": "markdown",
   "metadata": {},
   "source": [
    "# Machine Learning Project Checklist"
   ]
  },
  {
   "cell_type": "markdown",
   "metadata": {},
   "source": [
    "1. Frame the problem and look at the big picture.\n",
    "\n",
    "2. **Get the data.**\n",
    "\n",
    "3. Explore the data to gain insights.\n",
    "\n",
    "4. Explore many different models and short-list the best ones.\n",
    "\n",
    "5. Fine-tune your models and combine them into a great solution.\n",
    "\n",
    "6. Present your solution."
   ]
  },
  {
   "cell_type": "code",
   "execution_count": 1,
   "metadata": {
    "collapsed": true
   },
   "outputs": [],
   "source": [
    "import os"
   ]
  },
  {
   "cell_type": "code",
   "execution_count": 2,
   "metadata": {
    "collapsed": true
   },
   "outputs": [],
   "source": [
    "REPO_DIR = os.path.join(os.environ['USERPROFILE'], 'repos')\n",
    "PROJ_DIR = os.path.join(REPO_DIR, 'real_estate_machine_learning')\n",
    "os.chdir(PROJ_DIR)"
   ]
  },
  {
   "cell_type": "code",
   "execution_count": 3,
   "metadata": {
    "collapsed": true
   },
   "outputs": [],
   "source": [
    "DATA_DIR = './data'\n",
    "EXT_DIR = os.path.join(DATA_DIR, 'ext')\n",
    "INT_DIR = os.path.join(DATA_DIR, 'interim')\n",
    "IMG_DIR = './img'\n",
    "INPUT_DIR = '../real_estate_hungary/output'\n",
    "FILENAME = 'ForSaleRent_20181101.csv'\n",
    "SCRAPE_DATE = os.path.splitext(FILENAME)[0].split('_')[1]\n",
    "INPUT_FILEPATH=os.path.join(INPUT_DIR, FILENAME)"
   ]
  },
  {
   "cell_type": "code",
   "execution_count": 4,
   "metadata": {
    "collapsed": true
   },
   "outputs": [],
   "source": [
    "import pandas as pd, numpy as np\n",
    "from datetime import datetime\n",
    "import src.processing as proc\n",
    "from src.processing import extract_num\n",
    "from src.utils import *"
   ]
  },
  {
   "cell_type": "markdown",
   "metadata": {},
   "source": [
    "## Scraped data\n",
    "I have written a Python script, based on my module [real_estate_hungary](https://github.com/tszereny/real_estate_hungary, \"tszereny's GitHub page\"), which extracts pieces of information from one of the most popular Hungarian [real estate website](https://ingatlan.com/, \"https://ingatlan.com\"). In short it turns the data on the website into tabular form.  \n",
    "The scraped dataset contains more than 50,000 records of real estate properties in Budapest, the capital city of Hungary."
   ]
  },
  {
   "cell_type": "code",
   "execution_count": 5,
   "metadata": {},
   "outputs": [
    {
     "name": "stdout",
     "output_type": "stream",
     "text": [
      "Data has been scraped in November, 2018.\n"
     ]
    }
   ],
   "source": [
    "print('Data has been scraped in {}.'.format(datetime.strptime(SCRAPE_DATE, '%Y%m%d').strftime('%B, %Y')))"
   ]
  },
  {
   "cell_type": "code",
   "execution_count": 6,
   "metadata": {
    "collapsed": true
   },
   "outputs": [],
   "source": [
    "na_hun_equivalent='nincs megadva'"
   ]
  },
  {
   "cell_type": "code",
   "execution_count": 7,
   "metadata": {
    "collapsed": true
   },
   "outputs": [],
   "source": [
    "raw=pd.read_csv(INPUT_FILEPATH, encoding='utf8', na_values=na_hun_equivalent)"
   ]
  },
  {
   "cell_type": "markdown",
   "metadata": {},
   "source": [
    "Translate column names from Hungarian to English"
   ]
  },
  {
   "cell_type": "code",
   "execution_count": 8,
   "metadata": {
    "collapsed": true
   },
   "outputs": [],
   "source": [
    "raw=proc.transform_naming(raw)"
   ]
  },
  {
   "cell_type": "markdown",
   "metadata": {},
   "source": [
    "### Avilable columns\n",
    "Three categories:\n",
    "1. Unique ID\n",
    "2. Possible features\n",
    "3. Technical columns"
   ]
  },
  {
   "cell_type": "code",
   "execution_count": 9,
   "metadata": {},
   "outputs": [
    {
     "name": "stdout",
     "output_type": "stream",
     "text": [
      "<class 'pandas.core.frame.DataFrame'>\n",
      "RangeIndex: 55146 entries, 0 to 55145\n",
      "Data columns (total 60 columns):\n",
      "address                     55120 non-null object\n",
      "accessibility               14456 non-null object\n",
      "batch_num                   55146 non-null int64\n",
      "ceiling_height              37722 non-null object\n",
      "buses                       36823 non-null object\n",
      "buses_count                 36823 non-null float64\n",
      "furnished                   8593 non-null object\n",
      "cluster_id                  55146 non-null object\n",
      "property_id                 55146 non-null int64\n",
      "desc                        54531 non-null object\n",
      "city_district               55146 non-null int64\n",
      "smoking                     4822 non-null object\n",
      "floors                      50258 non-null object\n",
      "energy_perf_cert            2809 non-null object\n",
      "balcony                     23573 non-null object\n",
      "bath_and_wc                 29760 non-null object\n",
      "type_of_heating             49418 non-null object\n",
      "equipped                    7926 non-null object\n",
      "boats                       1971 non-null object\n",
      "boats_count                 1971 non-null float64\n",
      "local_railways              1212 non-null object\n",
      "local_railways_count        1212 non-null float64\n",
      "condition_of_real_estate    48908 non-null object\n",
      "with_entry_to_garden        17821 non-null object\n",
      "view                        42211 non-null object\n",
      "pets                        5188 non-null object\n",
      "convenience_level           32304 non-null object\n",
      "vacant                      6534 non-null object\n",
      "residental_park_name        1384 non-null object\n",
      "lat                         55146 non-null float64\n",
      "lift                        45574 non-null object\n",
      "property_url                55146 non-null object\n",
      "timestamp                   55146 non-null object\n",
      "lng                         55146 non-null float64\n",
      "air_conditioned             17548 non-null object\n",
      "max_listing                 55146 non-null int64\n",
      "max_page                    55146 non-null int64\n",
      "metro_lines                 15047 non-null object\n",
      "metro_lines_count           15047 non-null float64\n",
      "min_tenancy                 7609 non-null object\n",
      "page_num                    55146 non-null int64\n",
      "panelprogram                1819 non-null object\n",
      "parking                     26437 non-null object\n",
      "parking_lot_price           4621 non-null object\n",
      "price_in_huf                55146 non-null object\n",
      "area_size                   55146 non-null object\n",
      "utilities                   11466 non-null object\n",
      "room                        55146 non-null object\n",
      "attic                       32895 non-null object\n",
      "trolley_buses               17251 non-null object\n",
      "trolley_buses_count         17251 non-null float64\n",
      "listing_type                55146 non-null object\n",
      "orientation                 34536 non-null object\n",
      "trams                       22696 non-null object\n",
      "trams_count                 22696 non-null float64\n",
      "is_ad_active                55146 non-null object\n",
      "all_night_services          33757 non-null object\n",
      "all_night_services_count    33757 non-null float64\n",
      "year_built                  22339 non-null object\n",
      "building_floors             31497 non-null object\n",
      "dtypes: float64(9), int64(6), object(45)\n",
      "memory usage: 25.2+ MB\n"
     ]
    }
   ],
   "source": [
    "raw.info()"
   ]
  },
  {
   "cell_type": "code",
   "execution_count": 10,
   "metadata": {
    "collapsed": true
   },
   "outputs": [],
   "source": [
    "composite_id=['property_id', 'timestamp']"
   ]
  },
  {
   "cell_type": "code",
   "execution_count": 11,
   "metadata": {
    "collapsed": true
   },
   "outputs": [],
   "source": [
    "technical=['property_url', 'cluster_id', 'batch_num', 'page_num', 'max_page', 'max_listing', 'is_ad_active']"
   ]
  },
  {
   "cell_type": "code",
   "execution_count": 12,
   "metadata": {
    "collapsed": true
   },
   "outputs": [],
   "source": [
    "possible_features=raw.columns[~raw.columns.isin(technical)&~raw.columns.isin(composite_id)].tolist()"
   ]
  },
  {
   "cell_type": "markdown",
   "metadata": {},
   "source": [
    "Check whether the scraped dataset is distinct"
   ]
  },
  {
   "cell_type": "code",
   "execution_count": 13,
   "metadata": {},
   "outputs": [
    {
     "name": "stdout",
     "output_type": "stream",
     "text": [
      "Total number of records: 55,146\n",
      "Duplicated records are 2.675%\n"
     ]
    }
   ],
   "source": [
    "unique_records=raw[[composite_id[0]]+possible_features].drop_duplicates()\n",
    "unique_records_idx=unique_records.index\n",
    "total_records=len(raw)\n",
    "duplicated_records_ratio=1 - len(unique_records)/total_records\n",
    "print('Total number of records: {0:,}'.format(total_records))\n",
    "print('Duplicated records are {0:.3%}'.format(duplicated_records_ratio))"
   ]
  },
  {
   "cell_type": "markdown",
   "metadata": {},
   "source": [
    "Filter for unique records only and exclude technical columns"
   ]
  },
  {
   "cell_type": "code",
   "execution_count": 14,
   "metadata": {
    "collapsed": true
   },
   "outputs": [],
   "source": [
    "u_raw=raw.loc[unique_records_idx, possible_features + composite_id]"
   ]
  },
  {
   "cell_type": "markdown",
   "metadata": {},
   "source": [
    "### Elevation (metre)\n",
    "Merging elevation column to scraped dataset"
   ]
  },
  {
   "cell_type": "code",
   "execution_count": 15,
   "metadata": {
    "collapsed": true
   },
   "outputs": [],
   "source": [
    "elevation = pd.read_csv(os.path.join(EXT_DIR, 'elevation.csv'), encoding='utf8')"
   ]
  },
  {
   "cell_type": "code",
   "execution_count": 16,
   "metadata": {},
   "outputs": [
    {
     "data": {
      "text/html": [
       "<div>\n",
       "<style>\n",
       "    .dataframe thead tr:only-child th {\n",
       "        text-align: right;\n",
       "    }\n",
       "\n",
       "    .dataframe thead th {\n",
       "        text-align: left;\n",
       "    }\n",
       "\n",
       "    .dataframe tbody tr th {\n",
       "        vertical-align: top;\n",
       "    }\n",
       "</style>\n",
       "<table border=\"1\" class=\"dataframe\">\n",
       "  <thead>\n",
       "    <tr style=\"text-align: right;\">\n",
       "      <th></th>\n",
       "      <th>elevation</th>\n",
       "      <th>latitude</th>\n",
       "      <th>longitude</th>\n",
       "    </tr>\n",
       "  </thead>\n",
       "  <tbody>\n",
       "    <tr>\n",
       "      <th>0</th>\n",
       "      <td>102</td>\n",
       "      <td>47.460680</td>\n",
       "      <td>19.048690</td>\n",
       "    </tr>\n",
       "    <tr>\n",
       "      <th>1</th>\n",
       "      <td>106</td>\n",
       "      <td>47.529858</td>\n",
       "      <td>19.079060</td>\n",
       "    </tr>\n",
       "    <tr>\n",
       "      <th>2</th>\n",
       "      <td>106</td>\n",
       "      <td>47.529730</td>\n",
       "      <td>19.078869</td>\n",
       "    </tr>\n",
       "    <tr>\n",
       "      <th>3</th>\n",
       "      <td>102</td>\n",
       "      <td>47.538403</td>\n",
       "      <td>19.064398</td>\n",
       "    </tr>\n",
       "    <tr>\n",
       "      <th>4</th>\n",
       "      <td>102</td>\n",
       "      <td>47.546740</td>\n",
       "      <td>19.066140</td>\n",
       "    </tr>\n",
       "  </tbody>\n",
       "</table>\n",
       "</div>"
      ],
      "text/plain": [
       "   elevation   latitude  longitude\n",
       "0        102  47.460680  19.048690\n",
       "1        106  47.529858  19.079060\n",
       "2        106  47.529730  19.078869\n",
       "3        102  47.538403  19.064398\n",
       "4        102  47.546740  19.066140"
      ]
     },
     "execution_count": 16,
     "metadata": {},
     "output_type": "execute_result"
    }
   ],
   "source": [
    "elevation.head()"
   ]
  },
  {
   "cell_type": "code",
   "execution_count": 17,
   "metadata": {},
   "outputs": [
    {
     "data": {
      "text/html": [
       "<div>\n",
       "<style>\n",
       "    .dataframe thead tr:only-child th {\n",
       "        text-align: right;\n",
       "    }\n",
       "\n",
       "    .dataframe thead th {\n",
       "        text-align: left;\n",
       "    }\n",
       "\n",
       "    .dataframe tbody tr th {\n",
       "        vertical-align: top;\n",
       "    }\n",
       "</style>\n",
       "<table border=\"1\" class=\"dataframe\">\n",
       "  <thead>\n",
       "    <tr style=\"text-align: right;\">\n",
       "      <th></th>\n",
       "      <th>lat</th>\n",
       "      <th>lng</th>\n",
       "    </tr>\n",
       "  </thead>\n",
       "  <tbody>\n",
       "    <tr>\n",
       "      <th>0</th>\n",
       "      <td>47.460680</td>\n",
       "      <td>19.048690</td>\n",
       "    </tr>\n",
       "    <tr>\n",
       "      <th>1</th>\n",
       "      <td>47.529858</td>\n",
       "      <td>19.079060</td>\n",
       "    </tr>\n",
       "    <tr>\n",
       "      <th>2</th>\n",
       "      <td>47.529730</td>\n",
       "      <td>19.078869</td>\n",
       "    </tr>\n",
       "    <tr>\n",
       "      <th>7</th>\n",
       "      <td>47.538403</td>\n",
       "      <td>19.064398</td>\n",
       "    </tr>\n",
       "    <tr>\n",
       "      <th>10</th>\n",
       "      <td>47.546740</td>\n",
       "      <td>19.066140</td>\n",
       "    </tr>\n",
       "  </tbody>\n",
       "</table>\n",
       "</div>"
      ],
      "text/plain": [
       "          lat        lng\n",
       "0   47.460680  19.048690\n",
       "1   47.529858  19.079060\n",
       "2   47.529730  19.078869\n",
       "7   47.538403  19.064398\n",
       "10  47.546740  19.066140"
      ]
     },
     "execution_count": 17,
     "metadata": {},
     "output_type": "execute_result"
    }
   ],
   "source": [
    "u_raw[['lat', 'lng']].drop_duplicates().head()"
   ]
  },
  {
   "cell_type": "code",
   "execution_count": 18,
   "metadata": {
    "collapsed": true
   },
   "outputs": [],
   "source": [
    "u_raw = u_raw.merge(how='left',\n",
    "                    right=elevation,\n",
    "                    left_on=['lat', 'lng'],\n",
    "                    right_on=['latitude', 'longitude'])\n",
    "u_raw.drop(['latitude', 'longitude'], axis=1, inplace=True)"
   ]
  },
  {
   "cell_type": "markdown",
   "metadata": {},
   "source": [
    "Check whether any null value in the dataset:"
   ]
  },
  {
   "cell_type": "code",
   "execution_count": 19,
   "metadata": {},
   "outputs": [
    {
     "name": "stdout",
     "output_type": "stream",
     "text": [
      "Is there any null value? False\n"
     ]
    }
   ],
   "source": [
    "print('Is there any null value? {}'.format(np.any(u_raw[['lat', 'lng', 'elevation']].isnull())))"
   ]
  },
  {
   "cell_type": "code",
   "execution_count": 20,
   "metadata": {
    "collapsed": true
   },
   "outputs": [],
   "source": [
    "possible_features += ['elevation']"
   ]
  },
  {
   "cell_type": "code",
   "execution_count": 21,
   "metadata": {},
   "outputs": [
    {
     "data": {
      "text/html": [
       "<div>\n",
       "<style>\n",
       "    .dataframe thead tr:only-child th {\n",
       "        text-align: right;\n",
       "    }\n",
       "\n",
       "    .dataframe thead th {\n",
       "        text-align: left;\n",
       "    }\n",
       "\n",
       "    .dataframe tbody tr th {\n",
       "        vertical-align: top;\n",
       "    }\n",
       "</style>\n",
       "<table border=\"1\" class=\"dataframe\">\n",
       "  <thead>\n",
       "    <tr style=\"text-align: right;\">\n",
       "      <th></th>\n",
       "      <th>address</th>\n",
       "      <th>accessibility</th>\n",
       "      <th>ceiling_height</th>\n",
       "      <th>buses</th>\n",
       "      <th>buses_count</th>\n",
       "      <th>furnished</th>\n",
       "      <th>desc</th>\n",
       "      <th>city_district</th>\n",
       "      <th>smoking</th>\n",
       "      <th>floors</th>\n",
       "      <th>...</th>\n",
       "      <th>orientation</th>\n",
       "      <th>trams</th>\n",
       "      <th>trams_count</th>\n",
       "      <th>all_night_services</th>\n",
       "      <th>all_night_services_count</th>\n",
       "      <th>year_built</th>\n",
       "      <th>building_floors</th>\n",
       "      <th>property_id</th>\n",
       "      <th>timestamp</th>\n",
       "      <th>elevation</th>\n",
       "    </tr>\n",
       "  </thead>\n",
       "  <tbody>\n",
       "    <tr>\n",
       "      <th>0</th>\n",
       "      <td>Budai Bolero II</td>\n",
       "      <td>igen</td>\n",
       "      <td>NaN</td>\n",
       "      <td>103|133E|33</td>\n",
       "      <td>3.0</td>\n",
       "      <td>NaN</td>\n",
       "      <td>| Exkluzív otthon az Ön igényeire szabva! A Bu...</td>\n",
       "      <td>11</td>\n",
       "      <td>NaN</td>\n",
       "      <td>10</td>\n",
       "      <td>...</td>\n",
       "      <td>nyugat</td>\n",
       "      <td>1</td>\n",
       "      <td>1.0</td>\n",
       "      <td>NaN</td>\n",
       "      <td>NaN</td>\n",
       "      <td>2019</td>\n",
       "      <td>10</td>\n",
       "      <td>26313868</td>\n",
       "      <td>2018-11-03 08:23:13.955910</td>\n",
       "      <td>102</td>\n",
       "    </tr>\n",
       "    <tr>\n",
       "      <th>1</th>\n",
       "      <td>Csata utca 30.</td>\n",
       "      <td>NaN</td>\n",
       "      <td>3 m-nél alacsonyabb</td>\n",
       "      <td>14|32|105</td>\n",
       "      <td>3.0</td>\n",
       "      <td>NaN</td>\n",
       "      <td>| XIII  kerület közkedvelt részén  az Árpád-hí...</td>\n",
       "      <td>13</td>\n",
       "      <td>NaN</td>\n",
       "      <td>földszint</td>\n",
       "      <td>...</td>\n",
       "      <td>északnyugat</td>\n",
       "      <td>1|14</td>\n",
       "      <td>2.0</td>\n",
       "      <td>914|914A</td>\n",
       "      <td>2.0</td>\n",
       "      <td>NaN</td>\n",
       "      <td>5</td>\n",
       "      <td>24714938</td>\n",
       "      <td>2018-11-03 08:23:16.124314</td>\n",
       "      <td>106</td>\n",
       "    </tr>\n",
       "    <tr>\n",
       "      <th>2</th>\n",
       "      <td>Csata utca 30.</td>\n",
       "      <td>NaN</td>\n",
       "      <td>3 m-nél alacsonyabb</td>\n",
       "      <td>14|32|105</td>\n",
       "      <td>3.0</td>\n",
       "      <td>NaN</td>\n",
       "      <td>| XIII  kerület közkedvelt részén  az Árpád-hí...</td>\n",
       "      <td>13</td>\n",
       "      <td>NaN</td>\n",
       "      <td>2</td>\n",
       "      <td>...</td>\n",
       "      <td>délnyugat</td>\n",
       "      <td>1|14</td>\n",
       "      <td>2.0</td>\n",
       "      <td>914|914A</td>\n",
       "      <td>2.0</td>\n",
       "      <td>2018</td>\n",
       "      <td>5</td>\n",
       "      <td>25561892</td>\n",
       "      <td>2018-11-03 08:23:18.277117</td>\n",
       "      <td>106</td>\n",
       "    </tr>\n",
       "    <tr>\n",
       "      <th>3</th>\n",
       "      <td>Csata utca 30.</td>\n",
       "      <td>NaN</td>\n",
       "      <td>3 m-nél alacsonyabb</td>\n",
       "      <td>14|32|105</td>\n",
       "      <td>3.0</td>\n",
       "      <td>NaN</td>\n",
       "      <td>| XIII  kerület közkedvelt részén  az Árpád-hí...</td>\n",
       "      <td>13</td>\n",
       "      <td>NaN</td>\n",
       "      <td>1</td>\n",
       "      <td>...</td>\n",
       "      <td>északnyugat</td>\n",
       "      <td>1|14</td>\n",
       "      <td>2.0</td>\n",
       "      <td>914|914A</td>\n",
       "      <td>2.0</td>\n",
       "      <td>2018</td>\n",
       "      <td>5</td>\n",
       "      <td>27741740</td>\n",
       "      <td>2018-11-03 08:23:20.133521</td>\n",
       "      <td>106</td>\n",
       "    </tr>\n",
       "    <tr>\n",
       "      <th>4</th>\n",
       "      <td>Csata utca 30.</td>\n",
       "      <td>NaN</td>\n",
       "      <td>3 m-nél alacsonyabb</td>\n",
       "      <td>14|32|105</td>\n",
       "      <td>3.0</td>\n",
       "      <td>NaN</td>\n",
       "      <td>| XIII  kerület közkedvelt részén  az Árpád-hí...</td>\n",
       "      <td>13</td>\n",
       "      <td>NaN</td>\n",
       "      <td>5</td>\n",
       "      <td>...</td>\n",
       "      <td>északkelet</td>\n",
       "      <td>1|14</td>\n",
       "      <td>2.0</td>\n",
       "      <td>914|914A</td>\n",
       "      <td>2.0</td>\n",
       "      <td>2018</td>\n",
       "      <td>5</td>\n",
       "      <td>26996343</td>\n",
       "      <td>2018-11-03 08:23:22.161524</td>\n",
       "      <td>106</td>\n",
       "    </tr>\n",
       "  </tbody>\n",
       "</table>\n",
       "<p>5 rows × 54 columns</p>\n",
       "</div>"
      ],
      "text/plain": [
       "           address accessibility       ceiling_height        buses  \\\n",
       "0  Budai Bolero II          igen                  NaN  103|133E|33   \n",
       "1   Csata utca 30.           NaN  3 m-nél alacsonyabb    14|32|105   \n",
       "2   Csata utca 30.           NaN  3 m-nél alacsonyabb    14|32|105   \n",
       "3   Csata utca 30.           NaN  3 m-nél alacsonyabb    14|32|105   \n",
       "4   Csata utca 30.           NaN  3 m-nél alacsonyabb    14|32|105   \n",
       "\n",
       "   buses_count furnished                                               desc  \\\n",
       "0          3.0       NaN  | Exkluzív otthon az Ön igényeire szabva! A Bu...   \n",
       "1          3.0       NaN  | XIII  kerület közkedvelt részén  az Árpád-hí...   \n",
       "2          3.0       NaN  | XIII  kerület közkedvelt részén  az Árpád-hí...   \n",
       "3          3.0       NaN  | XIII  kerület közkedvelt részén  az Árpád-hí...   \n",
       "4          3.0       NaN  | XIII  kerület közkedvelt részén  az Árpád-hí...   \n",
       "\n",
       "   city_district smoking     floors    ...     orientation trams trams_count  \\\n",
       "0             11     NaN         10    ...          nyugat     1         1.0   \n",
       "1             13     NaN  földszint    ...     északnyugat  1|14         2.0   \n",
       "2             13     NaN          2    ...       délnyugat  1|14         2.0   \n",
       "3             13     NaN          1    ...     északnyugat  1|14         2.0   \n",
       "4             13     NaN          5    ...      északkelet  1|14         2.0   \n",
       "\n",
       "  all_night_services all_night_services_count year_built  building_floors  \\\n",
       "0                NaN                      NaN       2019               10   \n",
       "1           914|914A                      2.0        NaN                5   \n",
       "2           914|914A                      2.0       2018                5   \n",
       "3           914|914A                      2.0       2018                5   \n",
       "4           914|914A                      2.0       2018                5   \n",
       "\n",
       "  property_id                   timestamp elevation  \n",
       "0    26313868  2018-11-03 08:23:13.955910       102  \n",
       "1    24714938  2018-11-03 08:23:16.124314       106  \n",
       "2    25561892  2018-11-03 08:23:18.277117       106  \n",
       "3    27741740  2018-11-03 08:23:20.133521       106  \n",
       "4    26996343  2018-11-03 08:23:22.161524       106  \n",
       "\n",
       "[5 rows x 54 columns]"
      ]
     },
     "execution_count": 21,
     "metadata": {},
     "output_type": "execute_result"
    }
   ],
   "source": [
    "u_raw.head()"
   ]
  },
  {
   "cell_type": "markdown",
   "metadata": {},
   "source": [
    "### Unique ID\n",
    "- Ading unique id\n",
    "- Composed from **property_id** and **timestamp**"
   ]
  },
  {
   "cell_type": "code",
   "execution_count": 22,
   "metadata": {
    "collapsed": true
   },
   "outputs": [],
   "source": [
    "ts_fmt='%Y-%m-%d %H:%M:%S.%f'\n",
    "u_raw['id']=u_raw['property_id']+u_raw['timestamp'].apply(lambda ts: datetime.strptime(ts, ts_fmt).timestamp())"
   ]
  },
  {
   "cell_type": "code",
   "execution_count": 23,
   "metadata": {
    "scrolled": false
   },
   "outputs": [
    {
     "data": {
      "text/html": [
       "<div>\n",
       "<style>\n",
       "    .dataframe thead tr:only-child th {\n",
       "        text-align: right;\n",
       "    }\n",
       "\n",
       "    .dataframe thead th {\n",
       "        text-align: left;\n",
       "    }\n",
       "\n",
       "    .dataframe tbody tr th {\n",
       "        vertical-align: top;\n",
       "    }\n",
       "</style>\n",
       "<table border=\"1\" class=\"dataframe\">\n",
       "  <thead>\n",
       "    <tr style=\"text-align: right;\">\n",
       "      <th></th>\n",
       "      <th>address</th>\n",
       "      <th>accessibility</th>\n",
       "      <th>ceiling_height</th>\n",
       "      <th>buses</th>\n",
       "      <th>buses_count</th>\n",
       "      <th>furnished</th>\n",
       "      <th>desc</th>\n",
       "      <th>city_district</th>\n",
       "      <th>smoking</th>\n",
       "      <th>floors</th>\n",
       "      <th>...</th>\n",
       "      <th>trolley_buses_count</th>\n",
       "      <th>listing_type</th>\n",
       "      <th>orientation</th>\n",
       "      <th>trams</th>\n",
       "      <th>trams_count</th>\n",
       "      <th>all_night_services</th>\n",
       "      <th>all_night_services_count</th>\n",
       "      <th>year_built</th>\n",
       "      <th>building_floors</th>\n",
       "      <th>elevation</th>\n",
       "    </tr>\n",
       "  </thead>\n",
       "  <tbody>\n",
       "    <tr>\n",
       "      <th>0</th>\n",
       "      <td>Budai Bolero II</td>\n",
       "      <td>igen</td>\n",
       "      <td>NaN</td>\n",
       "      <td>103|133E|33</td>\n",
       "      <td>3.0</td>\n",
       "      <td>NaN</td>\n",
       "      <td>| Exkluzív otthon az Ön igényeire szabva! A Bu...</td>\n",
       "      <td>11</td>\n",
       "      <td>NaN</td>\n",
       "      <td>10</td>\n",
       "      <td>...</td>\n",
       "      <td>NaN</td>\n",
       "      <td>for-sale</td>\n",
       "      <td>nyugat</td>\n",
       "      <td>1</td>\n",
       "      <td>1.0</td>\n",
       "      <td>NaN</td>\n",
       "      <td>NaN</td>\n",
       "      <td>2019</td>\n",
       "      <td>10</td>\n",
       "      <td>102</td>\n",
       "    </tr>\n",
       "    <tr>\n",
       "      <th>1</th>\n",
       "      <td>Csata utca 30.</td>\n",
       "      <td>NaN</td>\n",
       "      <td>3 m-nél alacsonyabb</td>\n",
       "      <td>14|32|105</td>\n",
       "      <td>3.0</td>\n",
       "      <td>NaN</td>\n",
       "      <td>| XIII  kerület közkedvelt részén  az Árpád-hí...</td>\n",
       "      <td>13</td>\n",
       "      <td>NaN</td>\n",
       "      <td>földszint</td>\n",
       "      <td>...</td>\n",
       "      <td>NaN</td>\n",
       "      <td>for-sale</td>\n",
       "      <td>északnyugat</td>\n",
       "      <td>1|14</td>\n",
       "      <td>2.0</td>\n",
       "      <td>914|914A</td>\n",
       "      <td>2.0</td>\n",
       "      <td>NaN</td>\n",
       "      <td>5</td>\n",
       "      <td>106</td>\n",
       "    </tr>\n",
       "    <tr>\n",
       "      <th>2</th>\n",
       "      <td>Csata utca 30.</td>\n",
       "      <td>NaN</td>\n",
       "      <td>3 m-nél alacsonyabb</td>\n",
       "      <td>14|32|105</td>\n",
       "      <td>3.0</td>\n",
       "      <td>NaN</td>\n",
       "      <td>| XIII  kerület közkedvelt részén  az Árpád-hí...</td>\n",
       "      <td>13</td>\n",
       "      <td>NaN</td>\n",
       "      <td>2</td>\n",
       "      <td>...</td>\n",
       "      <td>NaN</td>\n",
       "      <td>for-sale</td>\n",
       "      <td>délnyugat</td>\n",
       "      <td>1|14</td>\n",
       "      <td>2.0</td>\n",
       "      <td>914|914A</td>\n",
       "      <td>2.0</td>\n",
       "      <td>2018</td>\n",
       "      <td>5</td>\n",
       "      <td>106</td>\n",
       "    </tr>\n",
       "    <tr>\n",
       "      <th>3</th>\n",
       "      <td>Csata utca 30.</td>\n",
       "      <td>NaN</td>\n",
       "      <td>3 m-nél alacsonyabb</td>\n",
       "      <td>14|32|105</td>\n",
       "      <td>3.0</td>\n",
       "      <td>NaN</td>\n",
       "      <td>| XIII  kerület közkedvelt részén  az Árpád-hí...</td>\n",
       "      <td>13</td>\n",
       "      <td>NaN</td>\n",
       "      <td>1</td>\n",
       "      <td>...</td>\n",
       "      <td>NaN</td>\n",
       "      <td>for-sale</td>\n",
       "      <td>északnyugat</td>\n",
       "      <td>1|14</td>\n",
       "      <td>2.0</td>\n",
       "      <td>914|914A</td>\n",
       "      <td>2.0</td>\n",
       "      <td>2018</td>\n",
       "      <td>5</td>\n",
       "      <td>106</td>\n",
       "    </tr>\n",
       "    <tr>\n",
       "      <th>4</th>\n",
       "      <td>Csata utca 30.</td>\n",
       "      <td>NaN</td>\n",
       "      <td>3 m-nél alacsonyabb</td>\n",
       "      <td>14|32|105</td>\n",
       "      <td>3.0</td>\n",
       "      <td>NaN</td>\n",
       "      <td>| XIII  kerület közkedvelt részén  az Árpád-hí...</td>\n",
       "      <td>13</td>\n",
       "      <td>NaN</td>\n",
       "      <td>5</td>\n",
       "      <td>...</td>\n",
       "      <td>NaN</td>\n",
       "      <td>for-sale</td>\n",
       "      <td>északkelet</td>\n",
       "      <td>1|14</td>\n",
       "      <td>2.0</td>\n",
       "      <td>914|914A</td>\n",
       "      <td>2.0</td>\n",
       "      <td>2018</td>\n",
       "      <td>5</td>\n",
       "      <td>106</td>\n",
       "    </tr>\n",
       "  </tbody>\n",
       "</table>\n",
       "<p>5 rows × 52 columns</p>\n",
       "</div>"
      ],
      "text/plain": [
       "           address accessibility       ceiling_height        buses  \\\n",
       "0  Budai Bolero II          igen                  NaN  103|133E|33   \n",
       "1   Csata utca 30.           NaN  3 m-nél alacsonyabb    14|32|105   \n",
       "2   Csata utca 30.           NaN  3 m-nél alacsonyabb    14|32|105   \n",
       "3   Csata utca 30.           NaN  3 m-nél alacsonyabb    14|32|105   \n",
       "4   Csata utca 30.           NaN  3 m-nél alacsonyabb    14|32|105   \n",
       "\n",
       "   buses_count furnished                                               desc  \\\n",
       "0          3.0       NaN  | Exkluzív otthon az Ön igényeire szabva! A Bu...   \n",
       "1          3.0       NaN  | XIII  kerület közkedvelt részén  az Árpád-hí...   \n",
       "2          3.0       NaN  | XIII  kerület közkedvelt részén  az Árpád-hí...   \n",
       "3          3.0       NaN  | XIII  kerület közkedvelt részén  az Árpád-hí...   \n",
       "4          3.0       NaN  | XIII  kerület közkedvelt részén  az Árpád-hí...   \n",
       "\n",
       "   city_district smoking     floors    ...    trolley_buses_count  \\\n",
       "0             11     NaN         10    ...                    NaN   \n",
       "1             13     NaN  földszint    ...                    NaN   \n",
       "2             13     NaN          2    ...                    NaN   \n",
       "3             13     NaN          1    ...                    NaN   \n",
       "4             13     NaN          5    ...                    NaN   \n",
       "\n",
       "  listing_type  orientation trams trams_count all_night_services  \\\n",
       "0     for-sale       nyugat     1         1.0                NaN   \n",
       "1     for-sale  északnyugat  1|14         2.0           914|914A   \n",
       "2     for-sale    délnyugat  1|14         2.0           914|914A   \n",
       "3     for-sale  északnyugat  1|14         2.0           914|914A   \n",
       "4     for-sale   északkelet  1|14         2.0           914|914A   \n",
       "\n",
       "   all_night_services_count year_built  building_floors elevation  \n",
       "0                       NaN       2019               10       102  \n",
       "1                       2.0        NaN                5       106  \n",
       "2                       2.0       2018                5       106  \n",
       "3                       2.0       2018                5       106  \n",
       "4                       2.0       2018                5       106  \n",
       "\n",
       "[5 rows x 52 columns]"
      ]
     },
     "execution_count": 23,
     "metadata": {},
     "output_type": "execute_result"
    }
   ],
   "source": [
    "u_raw.loc[:,possible_features].head()"
   ]
  },
  {
   "cell_type": "markdown",
   "metadata": {},
   "source": [
    "### Available listing types\n",
    "- for-sale\n",
    "- for-rent"
   ]
  },
  {
   "cell_type": "code",
   "execution_count": 24,
   "metadata": {
    "collapsed": true
   },
   "outputs": [],
   "source": [
    "sale_flt=u_raw.listing_type=='for-sale'\n",
    "rent_flt=u_raw.listing_type=='for-rent'"
   ]
  },
  {
   "cell_type": "markdown",
   "metadata": {},
   "source": [
    "### Measurement scales\n",
    "Data types of the features/columns should be modified accordingly:\n",
    "\n",
    "|Measurement scale|Representation|Data type|\n",
    "|-----------------|--------------|---------|\n",
    "|Nominal, category|text|str|\n",
    "|Ordinal|text|str|\n",
    "|Interval|numeric|int, float|\n",
    "|Ratio|numeric|int, float|\n",
    "\n",
    "I have picked all the interval/ratio and nominal scaled columns based on their values"
   ]
  },
  {
   "cell_type": "code",
   "execution_count": 25,
   "metadata": {
    "collapsed": true
   },
   "outputs": [],
   "source": [
    "interval_or_ratio = ['lat', 'lng',\n",
    "                     'elevation', 'price_in_huf',\n",
    "                     'area_size', 'room', \n",
    "                     'balcony', 'parking_lot_price',\n",
    "                     'utilities', 'min_tenancy',\n",
    "                     'metro_lines_count', 'trams_count',\n",
    "                     'trolley_buses_count', 'buses_count',\n",
    "                     'boats_count', 'local_railways_count',\n",
    "                     'all_night_services_count']"
   ]
  },
  {
   "cell_type": "code",
   "execution_count": 26,
   "metadata": {},
   "outputs": [
    {
     "data": {
      "text/plain": [
       "['address',\n",
       " 'accessibility',\n",
       " 'ceiling_height',\n",
       " 'buses',\n",
       " 'furnished',\n",
       " 'desc',\n",
       " 'city_district',\n",
       " 'smoking',\n",
       " 'floors',\n",
       " 'energy_perf_cert',\n",
       " 'bath_and_wc',\n",
       " 'type_of_heating',\n",
       " 'equipped',\n",
       " 'boats',\n",
       " 'local_railways',\n",
       " 'condition_of_real_estate',\n",
       " 'with_entry_to_garden',\n",
       " 'view',\n",
       " 'pets',\n",
       " 'convenience_level',\n",
       " 'vacant',\n",
       " 'residental_park_name',\n",
       " 'lift',\n",
       " 'air_conditioned',\n",
       " 'metro_lines',\n",
       " 'panelprogram',\n",
       " 'parking',\n",
       " 'attic',\n",
       " 'trolley_buses',\n",
       " 'listing_type',\n",
       " 'orientation',\n",
       " 'trams',\n",
       " 'all_night_services',\n",
       " 'year_built',\n",
       " 'building_floors']"
      ]
     },
     "execution_count": 26,
     "metadata": {},
     "output_type": "execute_result"
    }
   ],
   "source": [
    "nominal = u_raw[possible_features].columns[~u_raw[possible_features].columns.isin(interval_or_ratio)].tolist()\n",
    "nominal"
   ]
  },
  {
   "cell_type": "markdown",
   "metadata": {},
   "source": [
    "As a next step, data type of the columns should be checked and if it is not right, fix it:\n",
    "- Cast it directly, if it is possible\n",
    "- Extract the value from the text, then cast it"
   ]
  },
  {
   "cell_type": "code",
   "execution_count": 27,
   "metadata": {},
   "outputs": [
    {
     "name": "stdout",
     "output_type": "stream",
     "text": [
      "city_district column(s) have incorrect data type!\n"
     ]
    }
   ],
   "source": [
    "nominal_not_str = {k: 'object' for k, v in u_raw[nominal].dtypes.items() if v != 'object'}\n",
    "print('{} column(s) have incorrect data type!'.format(', '.join(nominal_not_str.keys())))"
   ]
  },
  {
   "cell_type": "code",
   "execution_count": 28,
   "metadata": {
    "collapsed": true
   },
   "outputs": [],
   "source": [
    "u_raw = u_raw.astype(nominal_not_str)"
   ]
  },
  {
   "cell_type": "code",
   "execution_count": 29,
   "metadata": {},
   "outputs": [
    {
     "name": "stdout",
     "output_type": "stream",
     "text": [
      "price_in_huf, area_size, room, balcony, parking_lot_price, utilities, min_tenancy column(s) have incorrect data type!\n"
     ]
    }
   ],
   "source": [
    "interval_or_ratio_str = [k for k, v in u_raw[interval_or_ratio].dtypes.items() if v == 'object']\n",
    "print('{} column(s) have incorrect data type!'.format(', '.join(interval_or_ratio_str)))"
   ]
  },
  {
   "cell_type": "code",
   "execution_count": 30,
   "metadata": {},
   "outputs": [
    {
     "data": {
      "text/html": [
       "<div>\n",
       "<style>\n",
       "    .dataframe thead tr:only-child th {\n",
       "        text-align: right;\n",
       "    }\n",
       "\n",
       "    .dataframe thead th {\n",
       "        text-align: left;\n",
       "    }\n",
       "\n",
       "    .dataframe tbody tr th {\n",
       "        vertical-align: top;\n",
       "    }\n",
       "</style>\n",
       "<table border=\"1\" class=\"dataframe\">\n",
       "  <thead>\n",
       "    <tr style=\"text-align: right;\">\n",
       "      <th></th>\n",
       "      <th>price_in_huf</th>\n",
       "      <th>area_size</th>\n",
       "      <th>room</th>\n",
       "      <th>balcony</th>\n",
       "      <th>parking_lot_price</th>\n",
       "      <th>utilities</th>\n",
       "      <th>min_tenancy</th>\n",
       "    </tr>\n",
       "  </thead>\n",
       "  <tbody>\n",
       "    <tr>\n",
       "      <th>0</th>\n",
       "      <td>69.9 millió Ft</td>\n",
       "      <td>92 m²</td>\n",
       "      <td>3 + 1 fél</td>\n",
       "      <td>18.24 m²</td>\n",
       "      <td>3.2 M Ft</td>\n",
       "      <td>NaN</td>\n",
       "      <td>NaN</td>\n",
       "    </tr>\n",
       "    <tr>\n",
       "      <th>1</th>\n",
       "      <td>50.3 millió Ft</td>\n",
       "      <td>75 m²</td>\n",
       "      <td>3</td>\n",
       "      <td>6.52 m²</td>\n",
       "      <td>2.89 M Ft</td>\n",
       "      <td>NaN</td>\n",
       "      <td>NaN</td>\n",
       "    </tr>\n",
       "    <tr>\n",
       "      <th>2</th>\n",
       "      <td>49.5 millió Ft</td>\n",
       "      <td>75 m²</td>\n",
       "      <td>3</td>\n",
       "      <td>7 m²</td>\n",
       "      <td>2.89 M Ft</td>\n",
       "      <td>NaN</td>\n",
       "      <td>NaN</td>\n",
       "    </tr>\n",
       "    <tr>\n",
       "      <th>3</th>\n",
       "      <td>46.1 millió Ft</td>\n",
       "      <td>71 m²</td>\n",
       "      <td>3</td>\n",
       "      <td>10.29 m²</td>\n",
       "      <td>2.9 M Ft</td>\n",
       "      <td>NaN</td>\n",
       "      <td>NaN</td>\n",
       "    </tr>\n",
       "    <tr>\n",
       "      <th>4</th>\n",
       "      <td>62.9 millió Ft</td>\n",
       "      <td>77 m²</td>\n",
       "      <td>3</td>\n",
       "      <td>30 m²</td>\n",
       "      <td>2.89 M Ft</td>\n",
       "      <td>NaN</td>\n",
       "      <td>NaN</td>\n",
       "    </tr>\n",
       "  </tbody>\n",
       "</table>\n",
       "</div>"
      ],
      "text/plain": [
       "     price_in_huf area_size         room   balcony parking_lot_price  \\\n",
       "0  69.9 millió Ft     92 m²   3 + 1 fél   18.24 m²          3.2 M Ft   \n",
       "1  50.3 millió Ft     75 m²           3    6.52 m²         2.89 M Ft   \n",
       "2  49.5 millió Ft     75 m²           3       7 m²         2.89 M Ft   \n",
       "3  46.1 millió Ft     71 m²           3   10.29 m²          2.9 M Ft   \n",
       "4  62.9 millió Ft     77 m²           3      30 m²         2.89 M Ft   \n",
       "\n",
       "  utilities min_tenancy  \n",
       "0       NaN         NaN  \n",
       "1       NaN         NaN  \n",
       "2       NaN         NaN  \n",
       "3       NaN         NaN  \n",
       "4       NaN         NaN  "
      ]
     },
     "execution_count": 30,
     "metadata": {},
     "output_type": "execute_result"
    }
   ],
   "source": [
    "u_raw.loc[sale_flt, interval_or_ratio_str].head()"
   ]
  },
  {
   "cell_type": "code",
   "execution_count": 31,
   "metadata": {},
   "outputs": [
    {
     "data": {
      "text/html": [
       "<div>\n",
       "<style>\n",
       "    .dataframe thead tr:only-child th {\n",
       "        text-align: right;\n",
       "    }\n",
       "\n",
       "    .dataframe thead th {\n",
       "        text-align: left;\n",
       "    }\n",
       "\n",
       "    .dataframe tbody tr th {\n",
       "        vertical-align: top;\n",
       "    }\n",
       "</style>\n",
       "<table border=\"1\" class=\"dataframe\">\n",
       "  <thead>\n",
       "    <tr style=\"text-align: right;\">\n",
       "      <th></th>\n",
       "      <th>price_in_huf</th>\n",
       "      <th>area_size</th>\n",
       "      <th>room</th>\n",
       "      <th>balcony</th>\n",
       "      <th>parking_lot_price</th>\n",
       "      <th>utilities</th>\n",
       "      <th>min_tenancy</th>\n",
       "    </tr>\n",
       "  </thead>\n",
       "  <tbody>\n",
       "    <tr>\n",
       "      <th>20</th>\n",
       "      <td>140 000 Ft</td>\n",
       "      <td>47 m²</td>\n",
       "      <td>1 + 1 fél</td>\n",
       "      <td>NaN</td>\n",
       "      <td>NaN</td>\n",
       "      <td>9 900 Ft/hó</td>\n",
       "      <td>1 év</td>\n",
       "    </tr>\n",
       "    <tr>\n",
       "      <th>21</th>\n",
       "      <td>110 000 Ft</td>\n",
       "      <td>30 m²</td>\n",
       "      <td>1</td>\n",
       "      <td>NaN</td>\n",
       "      <td>NaN</td>\n",
       "      <td>20 000 Ft/hó</td>\n",
       "      <td>1 év</td>\n",
       "    </tr>\n",
       "    <tr>\n",
       "      <th>22</th>\n",
       "      <td>160 000 Ft</td>\n",
       "      <td>42 m²</td>\n",
       "      <td>2</td>\n",
       "      <td>NaN</td>\n",
       "      <td>NaN</td>\n",
       "      <td>NaN</td>\n",
       "      <td>1 év</td>\n",
       "    </tr>\n",
       "    <tr>\n",
       "      <th>23</th>\n",
       "      <td>160 000 Ft</td>\n",
       "      <td>49 m²</td>\n",
       "      <td>1 + 1 fél</td>\n",
       "      <td>NaN</td>\n",
       "      <td>NaN</td>\n",
       "      <td>25 000 Ft/hó</td>\n",
       "      <td>1 év</td>\n",
       "    </tr>\n",
       "    <tr>\n",
       "      <th>24</th>\n",
       "      <td>450 000 Ft</td>\n",
       "      <td>90 m²</td>\n",
       "      <td>1 + 1 fél</td>\n",
       "      <td>3 m²</td>\n",
       "      <td>NaN</td>\n",
       "      <td>80 000 Ft/hó</td>\n",
       "      <td>1 év</td>\n",
       "    </tr>\n",
       "  </tbody>\n",
       "</table>\n",
       "</div>"
      ],
      "text/plain": [
       "   price_in_huf area_size         room balcony parking_lot_price  \\\n",
       "20   140 000 Ft     47 m²   1 + 1 fél      NaN               NaN   \n",
       "21   110 000 Ft     30 m²           1      NaN               NaN   \n",
       "22   160 000 Ft     42 m²           2      NaN               NaN   \n",
       "23   160 000 Ft     49 m²   1 + 1 fél      NaN               NaN   \n",
       "24   450 000 Ft     90 m²   1 + 1 fél     3 m²               NaN   \n",
       "\n",
       "       utilities min_tenancy  \n",
       "20   9 900 Ft/hó       1 év   \n",
       "21  20 000 Ft/hó       1 év   \n",
       "22           NaN       1 év   \n",
       "23  25 000 Ft/hó       1 év   \n",
       "24  80 000 Ft/hó       1 év   "
      ]
     },
     "execution_count": 31,
     "metadata": {},
     "output_type": "execute_result"
    }
   ],
   "source": [
    "u_raw.loc[rent_flt, interval_or_ratio_str].head()"
   ]
  },
  {
   "cell_type": "markdown",
   "metadata": {},
   "source": [
    "Columns above, should be converted to numeric, according to different listing type (for-sale, for-rent) it may have different value embedded in the text. e.g.:"
   ]
  },
  {
   "cell_type": "markdown",
   "metadata": {},
   "source": [
    "### Convert strings to numeric\n",
    "- Price - three categories:\n",
    "    1. Billion (milliárd)\n",
    "    2. Million (millió)\n",
    "    3. HUF, Hungarian Forint (Ft)<br><br>\n",
    "- Area size:\n",
    "    - Remove m$^2$ (square meter)<br><br>\n",
    "- Number of rooms: in the current representation they can't be analyzed, therefore splitting into two category\n",
    "    1. Number of full rooms (room >12 m$^2$)\n",
    "    2. Number of half rooms (room <12 m$^2$)\n",
    "    3. Adding total number of rooms<br><br>\n",
    "- Balcony area size:\n",
    "    - Remove m$^2$ (square meter)<br><br>"
   ]
  },
  {
   "cell_type": "code",
   "execution_count": 32,
   "metadata": {
    "collapsed": true
   },
   "outputs": [],
   "source": [
    "u_raw['price_in_huf']=u_raw.price_in_huf.apply(extract_num, thousand_eq='ezer', million_eq='millió', billion_eq='milliárd')\n",
    "u_raw['area_size']=u_raw.area_size.apply(extract_num)\n",
    "u_raw['room_lt_12_sqm']=u_raw.room.apply(lambda x: extract_num(x.split('+')[1]) if '+' in x else 0)\n",
    "u_raw['room_ge_12_sqm']=u_raw.room.apply(lambda x: extract_num(x.split('+')[0]))\n",
    "u_raw['room_total']=u_raw['room_ge_12_sqm']+u_raw['room_lt_12_sqm']\n",
    "u_raw['balcony'] = u_raw.loc[u_raw.balcony.notnull(), 'balcony'].apply(extract_num)"
   ]
  },
  {
   "cell_type": "markdown",
   "metadata": {},
   "source": [
    "- Parking lot price, column values consist of combination of currencies (HUF, EUR) and listing types (for-sale, for-rent) so it can't be analyzed properly.  \n",
    "Solution: splitting into 4 categories:\n",
    "    1. Sale price in HUF\n",
    "    2. Monthly fee in HUF\n",
    "    3. Sale price in EUR\n",
    "    4. Monthly fee in EUR"
   ]
  },
  {
   "cell_type": "code",
   "execution_count": 33,
   "metadata": {
    "collapsed": true
   },
   "outputs": [],
   "source": [
    "u_raw['parking_lot_in_huf'] = np.nan\n",
    "u_raw['parking_lot_in_eur'] = np.nan\n",
    "u_raw['parking_lot_in_huf_monthly'] = np.nan\n",
    "u_raw['parking_lot_in_eur_monthly'] = np.nan"
   ]
  },
  {
   "cell_type": "code",
   "execution_count": 34,
   "metadata": {
    "collapsed": true
   },
   "outputs": [],
   "source": [
    "not_null_flt = u_raw.parking_lot_price.notnull()\n",
    "monthly_flt = u_raw.parking_lot_price.str.contains('/hó').fillna(False)\n",
    "eur_flt = u_raw.parking_lot_price.str.contains('€').fillna(False)"
   ]
  },
  {
   "cell_type": "code",
   "execution_count": 35,
   "metadata": {
    "collapsed": true
   },
   "outputs": [],
   "source": [
    "u_raw.loc[not_null_flt&~eur_flt&~monthly_flt, 'parking_lot_in_huf'] = u_raw.loc[not_null_flt&~eur_flt&~monthly_flt, 'parking_lot_price'].apply(extract_num, million_eq = 'M')\n",
    "u_raw.loc[not_null_flt&~eur_flt&monthly_flt, 'parking_lot_in_huf_monthly'] = u_raw.loc[not_null_flt&~eur_flt&monthly_flt, 'parking_lot_price'].apply(extract_num)\n",
    "u_raw.loc[not_null_flt&eur_flt&monthly_flt, 'parking_lot_in_eur_monthly'] = u_raw.loc[not_null_flt&eur_flt&monthly_flt, 'parking_lot_price'].apply(extract_num)\n",
    "u_raw.loc[not_null_flt&eur_flt&~monthly_flt, 'parking_lot_in_eur'] = u_raw.loc[not_null_flt&eur_flt&~monthly_flt, 'parking_lot_price'].apply(extract_num)"
   ]
  },
  {
   "cell_type": "markdown",
   "metadata": {},
   "source": [
    "- Utilities fee:\n",
    "    - Monthly cost"
   ]
  },
  {
   "cell_type": "code",
   "execution_count": 36,
   "metadata": {
    "collapsed": true
   },
   "outputs": [],
   "source": [
    "u_raw.loc[u_raw.utilities.notnull(), 'utilities'] = u_raw.loc[u_raw.utilities.notnull(), 'utilities'].apply(extract_num)\n",
    "u_raw.utilities = u_raw.utilities.astype('float')"
   ]
  },
  {
   "cell_type": "markdown",
   "metadata": {},
   "source": [
    "- Minimum tenancy time:\n",
    "    - In years  "
   ]
  },
  {
   "cell_type": "code",
   "execution_count": 37,
   "metadata": {
    "collapsed": true
   },
   "outputs": [],
   "source": [
    "u_raw.loc[u_raw.min_tenancy =='nincs', 'min_tenancy'] = 0\n",
    "months_flt = u_raw.min_tenancy.str.contains('hónap').fillna(False)\n",
    "year_flt = u_raw.min_tenancy.str.contains('év').fillna(False)"
   ]
  },
  {
   "cell_type": "code",
   "execution_count": 38,
   "metadata": {
    "collapsed": true
   },
   "outputs": [],
   "source": [
    "u_raw.loc[year_flt&months_flt, 'min_tenancy'] = u_raw.loc[year_flt&months_flt, 'min_tenancy'].apply(lambda s: extract_num(s.split('év')[0]) + extract_num(s.split('év')[1])/12)\n",
    "u_raw.loc[~(year_flt&months_flt)&u_raw.min_tenancy.notnull(), 'min_tenancy'] = u_raw.loc[~(year_flt&months_flt)&u_raw.min_tenancy.notnull(), 'min_tenancy'].apply(extract_num, thousand_eq = 'hónap', thousand_mlpr = 1/12)\n",
    "u_raw.min_tenancy = u_raw.min_tenancy.astype('float')"
   ]
  },
  {
   "cell_type": "markdown",
   "metadata": {},
   "source": [
    "Double check the data types of the interval/ratio columns:"
   ]
  },
  {
   "cell_type": "code",
   "execution_count": 39,
   "metadata": {},
   "outputs": [
    {
     "data": {
      "text/plain": [
       "lat                         float64\n",
       "lng                         float64\n",
       "elevation                     int64\n",
       "price_in_huf                float64\n",
       "area_size                   float64\n",
       "room                         object\n",
       "balcony                     float64\n",
       "parking_lot_price            object\n",
       "utilities                   float64\n",
       "min_tenancy                 float64\n",
       "metro_lines_count           float64\n",
       "trams_count                 float64\n",
       "trolley_buses_count         float64\n",
       "buses_count                 float64\n",
       "boats_count                 float64\n",
       "local_railways_count        float64\n",
       "all_night_services_count    float64\n",
       "dtype: object"
      ]
     },
     "execution_count": 39,
     "metadata": {},
     "output_type": "execute_result"
    }
   ],
   "source": [
    "u_raw[interval_or_ratio].dtypes"
   ]
  },
  {
   "cell_type": "markdown",
   "metadata": {},
   "source": [
    "*Room* and *parking lot price* have been splitted into sub-categories, so the original columns are redundant."
   ]
  },
  {
   "cell_type": "code",
   "execution_count": 40,
   "metadata": {
    "collapsed": true
   },
   "outputs": [],
   "source": [
    "u_raw.drop(labels=['room', 'parking_lot_price'], axis=1, inplace=True)"
   ]
  },
  {
   "cell_type": "markdown",
   "metadata": {},
   "source": [
    "---"
   ]
  },
  {
   "cell_type": "markdown",
   "metadata": {},
   "source": [
    "Adding new feature to measure the relative price per square meter:"
   ]
  },
  {
   "cell_type": "code",
   "execution_count": 41,
   "metadata": {
    "collapsed": true
   },
   "outputs": [],
   "source": [
    "u_raw['price_per_sqm'] = u_raw['price_in_huf']/u_raw['area_size']"
   ]
  },
  {
   "cell_type": "markdown",
   "metadata": {},
   "source": [
    "## Saving datasets with correct datatypes:"
   ]
  },
  {
   "cell_type": "markdown",
   "metadata": {},
   "source": [
    "### Split listings into listing types"
   ]
  },
  {
   "cell_type": "code",
   "execution_count": 42,
   "metadata": {
    "collapsed": true
   },
   "outputs": [],
   "source": [
    "sale, rent = u_raw[sale_flt], u_raw[rent_flt]"
   ]
  },
  {
   "cell_type": "markdown",
   "metadata": {},
   "source": [
    "### Split dataset into training and test\n",
    "For splitting the dataset, I am using hash keys, which is calculated from unique id.  \n",
    "- 20% of the data is used for model testing as a final validation step"
   ]
  },
  {
   "cell_type": "code",
   "execution_count": 43,
   "metadata": {
    "collapsed": true,
    "scrolled": true
   },
   "outputs": [],
   "source": [
    "train_sale, test_sale = proc.split_train_test_by_hash(sale, test_ratio=0.2, id_column='id')\n",
    "train_rent, test_rent = proc.split_train_test_by_hash(rent, test_ratio=0.2, id_column='id')"
   ]
  },
  {
   "cell_type": "code",
   "execution_count": 44,
   "metadata": {},
   "outputs": [
    {
     "name": "stdout",
     "output_type": "stream",
     "text": [
      "Number of records in training set: 34,605\n",
      "Number of records in training set to total records 79.661602%\n"
     ]
    }
   ],
   "source": [
    "train_sale_ratio=len(train_sale)/(len(train_sale)+len(test_sale))\n",
    "print('Number of records in training set: {0:,}'.format(len(train_sale)))\n",
    "print('Number of records in training set to total records {0:%}'.format(train_sale_ratio))"
   ]
  },
  {
   "cell_type": "markdown",
   "metadata": {},
   "source": [
    "Save training and testing dataset to make it easier to use"
   ]
  },
  {
   "cell_type": "code",
   "execution_count": 45,
   "metadata": {
    "collapsed": true
   },
   "outputs": [],
   "source": [
    "fns = ['training_sale_{}.csv', 'testing_sale_{}.csv', 'training_rent_{}.csv', 'testing_rent_{}.csv']\n",
    "fns_date = [n.format(SCRAPE_DATE) for n in fns]\n",
    "dfs =[train_sale, test_sale, train_rent, test_rent]"
   ]
  },
  {
   "cell_type": "code",
   "execution_count": 46,
   "metadata": {
    "collapsed": true
   },
   "outputs": [],
   "source": [
    "for fn, df in zip(fns_date, dfs):\n",
    "    df.to_csv(os.path.join(INT_DIR, fn), encoding='utf8', index=False)"
   ]
  }
 ],
 "metadata": {
  "kernelspec": {
   "display_name": "Python [default]",
   "language": "python",
   "name": "python3"
  },
  "language_info": {
   "codemirror_mode": {
    "name": "ipython",
    "version": 3
   },
   "file_extension": ".py",
   "mimetype": "text/x-python",
   "name": "python",
   "nbconvert_exporter": "python",
   "pygments_lexer": "ipython3",
   "version": "3.6.3"
  }
 },
 "nbformat": 4,
 "nbformat_minor": 2
}
